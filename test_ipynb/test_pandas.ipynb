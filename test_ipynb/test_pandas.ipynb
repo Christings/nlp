{
 "cells": [
  {
   "cell_type": "code",
   "execution_count": 23,
   "metadata": {},
   "outputs": [],
   "source": [
    "import pandas as pd\n",
    "# pd.options.mode.chained_assignment=None\n",
    "import re\n",
    "import nltk"
   ]
  },
  {
   "cell_type": "code",
   "execution_count": 33,
   "metadata": {},
   "outputs": [],
   "source": [
    "data=pd.read_csv('../corpus/4095_01.csv',sep=',')\n",
    "# data=pd.read_csv('../corpus/4095_01.csv',header=None,sep=',') 比较header有和无时的区别"
   ]
  },
  {
   "cell_type": "code",
   "execution_count": 34,
   "metadata": {},
   "outputs": [
    {
     "data": {
      "text/html": [
       "<div>\n",
       "<style scoped>\n",
       "    .dataframe tbody tr th:only-of-type {\n",
       "        vertical-align: middle;\n",
       "    }\n",
       "\n",
       "    .dataframe tbody tr th {\n",
       "        vertical-align: top;\n",
       "    }\n",
       "\n",
       "    .dataframe thead th {\n",
       "        text-align: right;\n",
       "    }\n",
       "</style>\n",
       "<table border=\"1\" class=\"dataframe\">\n",
       "  <thead>\n",
       "    <tr style=\"text-align: right;\">\n",
       "      <th></th>\n",
       "      <th>TI</th>\n",
       "      <th>AB</th>\n",
       "    </tr>\n",
       "  </thead>\n",
       "  <tbody>\n",
       "    <tr>\n",
       "      <th>0</th>\n",
       "      <td>Life-styles of phytoseiid mites and their role...</td>\n",
       "      <td>This review categorizes the diversity of life-...</td>\n",
       "    </tr>\n",
       "    <tr>\n",
       "      <th>1</th>\n",
       "      <td>PLANT STRATEGIES OF MANIPULATING PREDATOR-PREY...</td>\n",
       "      <td>To understand the role of allelochemicals in p...</td>\n",
       "    </tr>\n",
       "    <tr>\n",
       "      <th>2</th>\n",
       "      <td>The evolutionary context for herbivore-induced...</td>\n",
       "      <td>Attacks by herbivores elicit changes in the bo...</td>\n",
       "    </tr>\n",
       "    <tr>\n",
       "      <th>3</th>\n",
       "      <td>Herbivory-induced volatiles elicit defence gen...</td>\n",
       "      <td>In response to herbivore damage, several plant...</td>\n",
       "    </tr>\n",
       "  </tbody>\n",
       "</table>\n",
       "</div>"
      ],
      "text/plain": [
       "                                                  TI  \\\n",
       "0  Life-styles of phytoseiid mites and their role...   \n",
       "1  PLANT STRATEGIES OF MANIPULATING PREDATOR-PREY...   \n",
       "2  The evolutionary context for herbivore-induced...   \n",
       "3  Herbivory-induced volatiles elicit defence gen...   \n",
       "\n",
       "                                                  AB  \n",
       "0  This review categorizes the diversity of life-...  \n",
       "1  To understand the role of allelochemicals in p...  \n",
       "2  Attacks by herbivores elicit changes in the bo...  \n",
       "3  In response to herbivore damage, several plant...  "
      ]
     },
     "execution_count": 34,
     "metadata": {},
     "output_type": "execute_result"
    }
   ],
   "source": [
    "data.head(4)"
   ]
  },
  {
   "cell_type": "code",
   "execution_count": 35,
   "metadata": {},
   "outputs": [
    {
     "data": {
      "text/plain": [
       "(4095, 2)"
      ]
     },
     "execution_count": 35,
     "metadata": {},
     "output_type": "execute_result"
    }
   ],
   "source": [
    "data.shape"
   ]
  },
  {
   "cell_type": "code",
   "execution_count": 36,
   "metadata": {},
   "outputs": [
    {
     "name": "stdout",
     "output_type": "stream",
     "text": [
      "TI\n",
      "AB\n"
     ]
    }
   ],
   "source": [
    "for each in data.iloc[:,:]:\n",
    "    print(each)"
   ]
  },
  {
   "cell_type": "code",
   "execution_count": 37,
   "metadata": {},
   "outputs": [],
   "source": [
    "STOP_WORDS = nltk.corpus.stopwords.words()"
   ]
  },
  {
   "cell_type": "code",
   "execution_count": 38,
   "metadata": {},
   "outputs": [],
   "source": [
    "def clean_sentence(val):\n",
    "    regex=re.compile('([^\\s\\w]|_)+')\n",
    "    sentence=regex.sub('',val).lower()\n",
    "    sentence=sentence.split(' ')\n",
    "    \n",
    "    for word in list(sentence):\n",
    "        if word in STOP_WORDS:\n",
    "            sentence.remove(word)\n",
    "    sentence=' '.join(sentence)\n",
    "    return sentence\n",
    "\n",
    "def clean_dataframe(data):\n",
    "    data=data.dropna(how='any')\n",
    "    for col in ['TI','AB']:\n",
    "        data[col]=data[col].apply(clean_sentence)\n",
    "    return data"
   ]
  },
  {
   "cell_type": "code",
   "execution_count": null,
   "metadata": {},
   "outputs": [],
   "source": [
    "data=clean_dataframe(data)"
   ]
  },
  {
   "cell_type": "code",
   "execution_count": 31,
   "metadata": {},
   "outputs": [
    {
     "data": {
      "text/html": [
       "<div>\n",
       "<style scoped>\n",
       "    .dataframe tbody tr th:only-of-type {\n",
       "        vertical-align: middle;\n",
       "    }\n",
       "\n",
       "    .dataframe tbody tr th {\n",
       "        vertical-align: top;\n",
       "    }\n",
       "\n",
       "    .dataframe thead th {\n",
       "        text-align: right;\n",
       "    }\n",
       "</style>\n",
       "<table border=\"1\" class=\"dataframe\">\n",
       "  <thead>\n",
       "    <tr style=\"text-align: right;\">\n",
       "      <th></th>\n",
       "      <th>0</th>\n",
       "      <th>1</th>\n",
       "    </tr>\n",
       "  </thead>\n",
       "  <tbody>\n",
       "    <tr>\n",
       "      <th>0</th>\n",
       "      <td></td>\n",
       "      <td>ab</td>\n",
       "    </tr>\n",
       "    <tr>\n",
       "      <th>1</th>\n",
       "      <td>lifestyles phytoseiid mites role biological co...</td>\n",
       "      <td>review categorizes diversity lifestyles phytos...</td>\n",
       "    </tr>\n",
       "    <tr>\n",
       "      <th>2</th>\n",
       "      <td>plant strategies manipulating predatorprey int...</td>\n",
       "      <td>understand role allelochemicals predatorprey i...</td>\n",
       "    </tr>\n",
       "    <tr>\n",
       "      <th>3</th>\n",
       "      <td>evolutionary context herbivoreinduced plant vo...</td>\n",
       "      <td>attacks herbivores elicit changes bouquet vola...</td>\n",
       "    </tr>\n",
       "    <tr>\n",
       "      <th>4</th>\n",
       "      <td>herbivoryinduced volatiles elicit defence gene...</td>\n",
       "      <td>response herbivore damage several plant specie...</td>\n",
       "    </tr>\n",
       "  </tbody>\n",
       "</table>\n",
       "</div>"
      ],
      "text/plain": [
       "                                                   0  \\\n",
       "0                                                      \n",
       "1  lifestyles phytoseiid mites role biological co...   \n",
       "2  plant strategies manipulating predatorprey int...   \n",
       "3  evolutionary context herbivoreinduced plant vo...   \n",
       "4  herbivoryinduced volatiles elicit defence gene...   \n",
       "\n",
       "                                                   1  \n",
       "0                                                 ab  \n",
       "1  review categorizes diversity lifestyles phytos...  \n",
       "2  understand role allelochemicals predatorprey i...  \n",
       "3  attacks herbivores elicit changes bouquet vola...  \n",
       "4  response herbivore damage several plant specie...  "
      ]
     },
     "execution_count": 31,
     "metadata": {},
     "output_type": "execute_result"
    }
   ],
   "source": [
    "data.head(5)"
   ]
  },
  {
   "cell_type": "code",
   "execution_count": null,
   "metadata": {},
   "outputs": [],
   "source": [
    ""
   ]
  }
 ],
 "metadata": {
  "kernelspec": {
   "display_name": "Python 3",
   "language": "python",
   "name": "python3"
  },
  "language_info": {
   "codemirror_mode": {
    "name": "ipython",
    "version": 3.0
   },
   "file_extension": ".py",
   "mimetype": "text/x-python",
   "name": "python",
   "nbconvert_exporter": "python",
   "pygments_lexer": "ipython3",
   "version": "3.6.4"
  }
 },
 "nbformat": 4,
 "nbformat_minor": 0
}
