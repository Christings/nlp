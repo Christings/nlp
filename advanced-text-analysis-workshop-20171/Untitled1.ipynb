{
 "cells": [
  {
   "cell_type": "code",
   "execution_count": 21,
   "metadata": {
    "scrolled": true
   },
   "outputs": [
    {
     "name": "stdout",
     "output_type": "stream",
     "text": [
      "Visit --> https://github.com/\n",
      "Visit --> https://www.python.org/\n",
      "Visit --> https://www.baidu.com/\n",
      "227 bytes received from https://www.baidu.com/.\n",
      "url:https://www.baidu.com/ --->finish\n",
      "48922 bytes received from https://www.python.org/.\n",
      "url:https://www.python.org/ --->finish\n",
      "52801 bytes received from https://github.com/.\n",
      "url:https://github.com/ --->finish\n",
      "[None, None, None]\n"
     ]
    }
   ],
   "source": [
    "from gevent import monkey\n",
    "monkey.patch_all()\n",
    "import gevent\n",
    "import urllib.request\n",
    "from gevent.pool import Pool\n",
    "\n",
    "def run_task(url):\n",
    "    print('Visit --> %s'%url)\n",
    "    try:\n",
    "        response=urllib.request.urlopen(url)\n",
    "        data=response.read()\n",
    "        print('%d bytes received from %s.'%((len(data)),url))\n",
    "    except Exception as e:\n",
    "        print(e)\n",
    "    print('url:%s --->finish'%url)\n",
    "        \n",
    "if __name__=='__main__':\n",
    "    pool=Pool()\n",
    "    urls=['https://github.com/','https://www.python.org/','https://www.baidu.com/']\n",
    "#     greenlets=[gevent.spawn(run_task,url) for url in urls]\n",
    "#     gevent.joinall(greenlets)\n",
    "    results=pool.map(run_task,urls)\n",
    "    print(results)"
   ]
  }
 ],
 "metadata": {
  "kernelspec": {
   "display_name": "Python 3",
   "language": "python",
   "name": "python3"
  },
  "language_info": {
   "codemirror_mode": {
    "name": "ipython",
    "version": 3
   },
   "file_extension": ".py",
   "mimetype": "text/x-python",
   "name": "python",
   "nbconvert_exporter": "python",
   "pygments_lexer": "ipython3",
   "version": "3.6.4"
  }
 },
 "nbformat": 4,
 "nbformat_minor": 2
}
