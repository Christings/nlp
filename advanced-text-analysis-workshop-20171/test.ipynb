{
 "cells": [
  {
   "cell_type": "code",
   "execution_count": 1,
   "metadata": {},
   "outputs": [],
   "source": [
    "import spacy\n",
    "import pandas as pd\n",
    "import numpy as np\n",
    "from collections import Counter\n",
    "from glob import glob\n",
    "import matplotlib.pyplot as plt\n",
    "from sklearn.decomposition import TruncatedSVD\n",
    "from sklearn.feature_extraction.text import TfidfVectorizer\n",
    "\n",
    "# Display plots in this notebook, instead of externally. \n",
    "from pylab import rcParams\n",
    "rcParams['figure.figsize']=16,8\n",
    "%matplotlib inline\n",
    "\n",
    "# The following are optional dependencies. \n",
    "# Feel free to comment these out. \n",
    "# Sent2tree uses the sent2tree.py module in this repository. \n",
    "from sent2tree import sentenceTree\n",
    "import ete3\n",
    "import seaborn"
   ]
  },
  {
   "cell_type": "code",
   "execution_count": 2,
   "metadata": {},
   "outputs": [],
   "source": [
    "nlp=spacy.load('en_core_web_md')"
   ]
  },
  {
   "cell_type": "code",
   "execution_count": 3,
   "metadata": {},
   "outputs": [],
   "source": [
    "grail_raw=open('grail.txt').read()\n",
    "pride_raw=open('pride.txt').read()"
   ]
  },
  {
   "cell_type": "code",
   "execution_count": 4,
   "metadata": {},
   "outputs": [],
   "source": [
    "grail=nlp(grail_raw)\n",
    "pride=nlp(pride_raw)"
   ]
  },
  {
   "cell_type": "code",
   "execution_count": 5,
   "metadata": {},
   "outputs": [
    {
     "data": {
      "text/plain": [
       "﻿It"
      ]
     },
     "execution_count": 5,
     "metadata": {},
     "output_type": "execute_result"
    }
   ],
   "source": [
    "pride[0]"
   ]
  },
  {
   "cell_type": "code",
   "execution_count": 6,
   "metadata": {},
   "outputs": [
    {
     "data": {
      "text/plain": [
       "﻿It is a truth universally acknowledged, that a single man in possession\n",
       "of a good fortune, must"
      ]
     },
     "execution_count": 6,
     "metadata": {},
     "output_type": "execute_result"
    }
   ],
   "source": [
    "pride[:20]"
   ]
  },
  {
   "cell_type": "code",
   "execution_count": 7,
   "metadata": {},
   "outputs": [
    {
     "data": {
      "text/plain": [
       "﻿It is a truth universally acknowledged, that a single man in possession\n",
       "of a good fortune, must be in want of a wife.\n"
      ]
     },
     "execution_count": 7,
     "metadata": {},
     "output_type": "execute_result"
    }
   ],
   "source": [
    "next(pride.sents)"
   ]
  },
  {
   "cell_type": "code",
   "execution_count": 8,
   "metadata": {},
   "outputs": [
    {
     "data": {
      "text/plain": [
       "Darcy, as well as Elizabeth, really loved them; and they were both ever\n",
       "sensible of the warmest gratitude towards the persons who, by bringing\n",
       "her into Derbyshire, had been the means of uniting them."
      ]
     },
     "execution_count": 8,
     "metadata": {},
     "output_type": "execute_result"
    }
   ],
   "source": [
    "prideSents=list(pride.sents)\n",
    "prideSents[-1]"
   ]
  },
  {
   "cell_type": "code",
   "execution_count": 9,
   "metadata": {},
   "outputs": [
    {
     "data": {
      "text/plain": [
       "CAMERAMAN: Christ!"
      ]
     },
     "execution_count": 9,
     "metadata": {},
     "output_type": "execute_result"
    }
   ],
   "source": [
    "list(grail.sents)[-1]"
   ]
  },
  {
   "cell_type": "code",
   "execution_count": 10,
   "metadata": {},
   "outputs": [
    {
     "data": {
      "text/plain": [
       "[Every lingering struggle in his favour grew fainter\n",
       " and fainter; and in farther justification of Mr. Darcy, she could not\n",
       " but allow that Mr. Bingley, when questioned by Jane, had long ago\n",
       " asserted his blamelessness in the affair; that proud and repulsive as\n",
       " were his manners, she had never, in the whole course of their\n",
       " acquaintance--an acquaintance which had latterly brought them much\n",
       " together, and given her a sort of intimacy with his ways--seen anything\n",
       " that betrayed him to be unprincipled or unjust--anything that spoke him\n",
       " of irreligious or immoral habits; that among his own connections he was\n",
       " esteemed and valued--that even Wickham had allowed him merit as a\n",
       " brother, and that she had often heard him speak so affectionately of his\n",
       " sister as to prove him capable of _some_ amiable feeling; that had his\n",
       " actions been what Mr. Wickham represented them, so gross a violation of\n",
       " everything right could hardly have been concealed from the world; and\n",
       " that friendship between a person capable of it, and such an amiable man\n",
       " as Mr. Bingley, was incomprehensible.\n",
       " ]"
      ]
     },
     "execution_count": 10,
     "metadata": {},
     "output_type": "execute_result"
    }
   ],
   "source": [
    "prideSentenceLengths=[len(sent) for sent in prideSents]\n",
    "[sent for sent in prideSents if len(sent) ==max(prideSentenceLengths)]"
   ]
  },
  {
   "cell_type": "code",
   "execution_count": 11,
   "metadata": {},
   "outputs": [
    {
     "data": {
      "text/plain": [
       "universally"
      ]
     },
     "execution_count": 11,
     "metadata": {},
     "output_type": "execute_result"
    }
   ],
   "source": [
    "pride[4]"
   ]
  },
  {
   "cell_type": "code",
   "execution_count": 12,
   "metadata": {},
   "outputs": [
    {
     "data": {
      "text/plain": [
       "['ancestors',\n",
       " 'check_flag',\n",
       " 'children',\n",
       " 'cluster',\n",
       " 'conjuncts',\n",
       " 'dep',\n",
       " 'dep_',\n",
       " 'doc',\n",
       " 'ent_id',\n",
       " 'ent_id_',\n",
       " 'ent_iob',\n",
       " 'ent_iob_',\n",
       " 'ent_type',\n",
       " 'ent_type_',\n",
       " 'get_extension',\n",
       " 'has_extension',\n",
       " 'has_vector',\n",
       " 'head',\n",
       " 'i',\n",
       " 'idx',\n",
       " 'is_alpha',\n",
       " 'is_ancestor',\n",
       " 'is_ascii',\n",
       " 'is_bracket',\n",
       " 'is_currency',\n",
       " 'is_digit',\n",
       " 'is_left_punct',\n",
       " 'is_lower',\n",
       " 'is_oov',\n",
       " 'is_punct',\n",
       " 'is_quote',\n",
       " 'is_right_punct',\n",
       " 'is_sent_start',\n",
       " 'is_space',\n",
       " 'is_stop',\n",
       " 'is_title',\n",
       " 'is_upper',\n",
       " 'lang',\n",
       " 'lang_',\n",
       " 'left_edge',\n",
       " 'lefts',\n",
       " 'lemma',\n",
       " 'lemma_',\n",
       " 'lex_id',\n",
       " 'like_email',\n",
       " 'like_num',\n",
       " 'like_url',\n",
       " 'lower',\n",
       " 'lower_',\n",
       " 'n_lefts',\n",
       " 'n_rights',\n",
       " 'nbor',\n",
       " 'norm',\n",
       " 'norm_',\n",
       " 'orth',\n",
       " 'orth_',\n",
       " 'pos',\n",
       " 'pos_',\n",
       " 'prefix',\n",
       " 'prefix_',\n",
       " 'prob',\n",
       " 'rank',\n",
       " 'right_edge',\n",
       " 'rights',\n",
       " 'sent_start',\n",
       " 'sentiment',\n",
       " 'set_extension',\n",
       " 'shape',\n",
       " 'shape_',\n",
       " 'similarity',\n",
       " 'string',\n",
       " 'subtree',\n",
       " 'suffix',\n",
       " 'suffix_',\n",
       " 'tag',\n",
       " 'tag_',\n",
       " 'text',\n",
       " 'text_with_ws',\n",
       " 'vector',\n",
       " 'vector_norm',\n",
       " 'vocab',\n",
       " 'whitespace_']"
      ]
     },
     "execution_count": 12,
     "metadata": {},
     "output_type": "execute_result"
    }
   ],
   "source": [
    "[prop for prop in dir(pride[4]) if not prop.startswith('_')]"
   ]
  },
  {
   "cell_type": "code",
   "execution_count": 13,
   "metadata": {},
   "outputs": [
    {
     "data": {
      "text/plain": [
       "4"
      ]
     },
     "execution_count": 13,
     "metadata": {},
     "output_type": "execute_result"
    }
   ],
   "source": [
    "pride[4].i"
   ]
  },
  {
   "cell_type": "code",
   "execution_count": 14,
   "metadata": {},
   "outputs": [],
   "source": [
    "def locations(needle,haystack):\n",
    "    \"\"\" \n",
    "    Make a list of locations, bin those into a histogram, \n",
    "    and finally put it into a Pandas Series object so that we\n",
    "    can later make it into a DataFrame. \n",
    "    \"\"\"\n",
    "    return pd.Series(np.histogram(\n",
    "        [word.i for word in haystack\n",
    "         if word.text.lower()==needle],bins=50)[0])"
   ]
  },
  {
   "cell_type": "code",
   "execution_count": 15,
   "metadata": {},
   "outputs": [
    {
     "data": {
      "text/plain": [
       "array([<matplotlib.axes._subplots.AxesSubplot object at 0x2b9327456a90>,\n",
       "       <matplotlib.axes._subplots.AxesSubplot object at 0x2b932d7f8358>,\n",
       "       <matplotlib.axes._subplots.AxesSubplot object at 0x2b932d82bd68>,\n",
       "       <matplotlib.axes._subplots.AxesSubplot object at 0x2b932d8676d8>],\n",
       "      dtype=object)"
      ]
     },
     "execution_count": 15,
     "metadata": {},
     "output_type": "execute_result"
    },
    {
     "data": {
      "image/png": "[encoded data removed]",
      "text/plain": [
       "<matplotlib.figure.Figure at 0x2b923494b4a8>"
      ]
     },
     "metadata": {},
     "output_type": "display_data"
    }
   ],
   "source": [
    "rcParams['figure.figsize']=16,8\n",
    "\n",
    "pd.DataFrame(\n",
    "    {name:locations(name.lower(),pride)\n",
    "     for name in ['Elizabeth','Darcy','Jane','Bennet']}\n",
    ").plot(subplots=True)"
   ]
  },
  {
   "cell_type": "code",
   "execution_count": 16,
   "metadata": {},
   "outputs": [
    {
     "data": {
      "text/plain": [
       "{'CARDINAL',\n",
       " 'DATE',\n",
       " 'EVENT',\n",
       " 'FAC',\n",
       " 'GPE',\n",
       " 'LANGUAGE',\n",
       " 'LAW',\n",
       " 'LOC',\n",
       " 'MONEY',\n",
       " 'NORP',\n",
       " 'ORDINAL',\n",
       " 'ORG',\n",
       " 'PERSON',\n",
       " 'PRODUCT',\n",
       " 'QUANTITY',\n",
       " 'TIME',\n",
       " 'WORK_OF_ART'}"
      ]
     },
     "execution_count": 16,
     "metadata": {},
     "output_type": "execute_result"
    }
   ],
   "source": [
    "set([w.label_ for w in grail.ents])"
   ]
  },
  {
   "cell_type": "code",
   "execution_count": 17,
   "metadata": {},
   "outputs": [
    {
     "data": {
      "text/plain": [
       "[Pure,\n",
       " The Tale of Sir,\n",
       " The Tale of Sir Galahad,\n",
       " The Tale of Sir Launcelot,\n",
       " Morning,\n",
       " Olfin Bedwere of,\n",
       " Camaaaaaargue,\n",
       " Black Beast,\n",
       " Black Beast]"
      ]
     },
     "execution_count": 17,
     "metadata": {},
     "output_type": "execute_result"
    }
   ],
   "source": [
    "[ent for ent in grail.ents if ent.label_=='WORK_OF_ART']"
   ]
  },
  {
   "cell_type": "code",
   "execution_count": 18,
   "metadata": {},
   "outputs": [
    {
     "data": {
      "text/plain": [
       "[England,\n",
       " Bristol,\n",
       " England,\n",
       " Galahad,\n",
       " Galahad,\n",
       " WINSTON,\n",
       " Britain,\n",
       " if--,\n",
       " I--,\n",
       " Camelot--,\n",
       " Hoa,\n",
       " Galahad,\n",
       " Spring,\n",
       " Antioch,\n",
       " Antioch,\n",
       " Aauuggghhh,\n",
       " France,\n",
       " Cornwall,\n",
       " Iiiiives,\n",
       " Thou]"
      ]
     },
     "execution_count": 18,
     "metadata": {},
     "output_type": "execute_result"
    }
   ],
   "source": [
    "[ent for ent in grail.ents if ent.label_=='GPE']"
   ]
  },
  {
   "cell_type": "code",
   "execution_count": 19,
   "metadata": {},
   "outputs": [
    {
     "data": {
      "text/plain": [
       "{'ARMY',\n",
       " 'ARMY OF KNIGHTS',\n",
       " 'ARTHUR',\n",
       " 'Aaauugh',\n",
       " 'Aaauugh eats BROTHER MAYNARD',\n",
       " 'Aggh',\n",
       " 'Angnor',\n",
       " 'Arimathea',\n",
       " 'BEDEVERE',\n",
       " 'BLACK KNIGHT',\n",
       " 'Bors',\n",
       " 'CARTOON',\n",
       " 'CONCORDE',\n",
       " 'CRASH',\n",
       " 'CRONE',\n",
       " 'Divine Providence',\n",
       " 'Erm',\n",
       " 'Excalibur',\n",
       " 'FRENCH',\n",
       " 'Grail',\n",
       " 'HERBERT',\n",
       " 'Hiyaah',\n",
       " 'Holy Grail',\n",
       " 'KNIGHTS',\n",
       " 'KNIGHTS OF',\n",
       " 'Knights',\n",
       " \"Knights Who Say 'Ni'\",\n",
       " 'Knights of Camelot',\n",
       " 'Knights of Ni',\n",
       " 'Knights of the Round',\n",
       " 'Knights of the Round Table',\n",
       " 'Knights of-- Knights',\n",
       " 'LAUNCELOT',\n",
       " 'Launcelot',\n",
       " 'Ninepence',\n",
       " 'Oooohoohohooo',\n",
       " 'PRINCESS LUCKY',\n",
       " 'PRISONER',\n",
       " 'ROBIN',\n",
       " 'SENTRY',\n",
       " 'SHRUBBER',\n",
       " 'Supreme',\n",
       " 'TIM',\n",
       " \"That's--\",\n",
       " 'The Holy Hand Grenade',\n",
       " \"The Knights Who Say 'Ni'\",\n",
       " 'Thee',\n",
       " \"This'll\",\n",
       " 'Umhm',\n",
       " 'Un',\n",
       " 'VILLAGER',\n",
       " 'W--',\n",
       " 'a--',\n",
       " 'chu--',\n",
       " 'l--',\n",
       " 'n--',\n",
       " 'the Court of Camelot',\n",
       " 'the Holy Grail',\n",
       " 'the Holy Hand Grenade',\n",
       " 'the Knights of Ni',\n",
       " 'uh--',\n",
       " \"we're--\"}"
      ]
     },
     "execution_count": 19,
     "metadata": {},
     "output_type": "execute_result"
    }
   ],
   "source": [
    "set(list([ent.string.strip() for ent in grail.ents if ent.label_=='ORG']))"
   ]
  },
  {
   "cell_type": "code",
   "execution_count": 20,
   "metadata": {},
   "outputs": [
    {
     "data": {
      "text/plain": [
       "{'Aaaaugh',\n",
       " 'African ',\n",
       " 'Anarcho',\n",
       " 'Assyria',\n",
       " 'Britons',\n",
       " 'European ',\n",
       " 'FRENCH ',\n",
       " 'French',\n",
       " 'French ',\n",
       " 'Saxons'}"
      ]
     },
     "execution_count": 20,
     "metadata": {},
     "output_type": "execute_result"
    }
   ],
   "source": [
    "set([ent.string for ent in grail.ents if ent.label_ =='NORP'])"
   ]
  },
  {
   "cell_type": "code",
   "execution_count": 21,
   "metadata": {},
   "outputs": [
    {
     "data": {
      "text/plain": [
       "[: I'm French!  ,\n",
       " The ferocity of the French taunting took him completely by surprise, and Arthur became convinced that a new strategy was required if the quest for the Holy Grail were to be brought to a successful conclusion.  ,\n",
       " So, we French fellows outwit you a second time!,\n",
       " So, you think you could out-clever us French folk with your silly knees-bent running about advancing behaviour?!  ,\n",
       " [silence] French persons!]"
      ]
     },
     "execution_count": 21,
     "metadata": {},
     "output_type": "execute_result"
    }
   ],
   "source": [
    "frenchPeople=[ent for ent in grail.ents if ent.label_ =='NORP' and ent.string.strip()=='French']\n",
    "[ent.sent for ent in frenchPeople]"
   ]
  },
  {
   "cell_type": "code",
   "execution_count": 22,
   "metadata": {},
   "outputs": [
    {
     "data": {
      "text/plain": [
       "{83: 'ADJ',\n",
       " 84: 'ADP',\n",
       " 85: 'ADV',\n",
       " 88: 'CCONJ',\n",
       " 89: 'DET',\n",
       " 90: 'INTJ',\n",
       " 91: 'NOUN',\n",
       " 92: 'NUM',\n",
       " 93: 'PART',\n",
       " 94: 'PRON',\n",
       " 95: 'PROPN',\n",
       " 96: 'PUNCT',\n",
       " 99: 'VERB',\n",
       " 100: 'X',\n",
       " 102: 'SPACE'}"
      ]
     },
     "execution_count": 22,
     "metadata": {},
     "output_type": "execute_result"
    }
   ],
   "source": [
    "tagDict={w.pos:w.pos_ for w in pride}\n",
    "tagDict"
   ]
  },
  {
   "cell_type": "code",
   "execution_count": 23,
   "metadata": {},
   "outputs": [
    {
     "data": {
      "text/plain": [
       "<matplotlib.axes._subplots.AxesSubplot at 0x2b9264173f98>"
      ]
     },
     "execution_count": 23,
     "metadata": {},
     "output_type": "execute_result"
    },
    {
     "data": {
      "image/png": "[encoded data removed]",
      "text/plain": [
       "<matplotlib.figure.Figure at 0x2b9321122860>"
      ]
     },
     "metadata": {},
     "output_type": "display_data"
    }
   ],
   "source": [
    "grailPOS = pd.Series(grail.count_by(spacy.attrs.POS))/len(grail)\n",
    "pridePOS = pd.Series(pride.count_by(spacy.attrs.POS))/len(pride)\n",
    "\n",
    "rcParams['figure.figsize'] = 16, 8\n",
    "df = pd.DataFrame([grailPOS, pridePOS], index=['Grail', 'Pride'])\n",
    "# df.columns = [tagDict[column] for column in df.columns]\n",
    "df.T.plot(kind='bar')"
   ]
  },
  {
   "cell_type": "code",
   "execution_count": 24,
   "metadata": {},
   "outputs": [
    {
     "data": {
      "text/plain": [
       "[('I', 2065),\n",
       " ('she', 1384),\n",
       " ('it', 1287),\n",
       " ('you', 1145),\n",
       " ('he', 1100),\n",
       " ('him', 762),\n",
       " ('her', 707),\n",
       " ('they', 477),\n",
       " ('me', 444),\n",
       " ('them', 433)]"
      ]
     },
     "execution_count": 24,
     "metadata": {},
     "output_type": "execute_result"
    }
   ],
   "source": [
    "prideAdjs=[w for w in pride if w.pos_=='PRON']\n",
    "Counter([w.string.strip() for w in prideAdjs]).most_common(10)"
   ]
  },
  {
   "cell_type": "code",
   "execution_count": 25,
   "metadata": {},
   "outputs": [
    {
     "data": {
      "text/plain": [
       "[The wise Sir Bedevere was the first to join King Arthur's knights, but other illustrious names were soon to follow: Sir Lancelot the Brave; Sir Gallahad the Pure; and Sir Robin the-not-quite-so-brave-as-Sir-Lancelot, who had nearly fought the Dragon of Angnor, who had nearly stood up to the vicious Chicken of Bristol, and who had personally wet himself at the Battle of Badon Hill; and the aptly named Sir Not-appearing-in-this-film.  ,\n",
       " Frank\n",
       " SCENE 10: [trumpets] \n",
       " NARRATOR: The Tale of Sir Robin.  ,\n",
       " Sir Robin rode north, through the dark forest of Ewing, accompanied by his favorite minstrels.,\n",
       " Bravely bold Sir Robin, rode forth from Camelot.  ,\n",
       " O brave Sir Robin.  ,\n",
       " Brave, brave, brave, brave Sir Robin!  ,\n",
       " To have his kneecaps split, and his body burned away, And his limbs all hacked and mangled, brave Sir Robin!,\n",
       " He is brave Sir Robin, brave Sir Robin, who--\n",
       " ROBIN: Shut up!  ,\n",
       " Brave Sir Robin ran away.,\n",
       " Yes, brave Sir Robin turned about\n",
       " ROBIN: I didn't!,\n",
       " [singing] Bravest of the brave, Sir Robin.,\n",
       " My liege, it's Sir Robin!,\n",
       " Sir Robin!,\n",
       " And so, Arthur and Bedevere and Sir Robin set out on their search to find the enchanter of whom the old man had spoken in scene twenty-four.  ,\n",
       " Sir Robin!,\n",
       " Brave Sir Robin, you go.,\n",
       " Sir Robin of Camelot.]"
      ]
     },
     "execution_count": 25,
     "metadata": {},
     "output_type": "execute_result"
    }
   ],
   "source": [
    "robinSents=[sent for sent in grail.sents if 'Sir Robin' in sent.string]\n",
    "robinSents"
   ]
  },
  {
   "cell_type": "code",
   "execution_count": 26,
   "metadata": {},
   "outputs": [
    {
     "data": {
      "text/plain": [
       "Sir Robin rode north, through the dark forest of Ewing, accompanied by his favorite minstrels."
      ]
     },
     "execution_count": 26,
     "metadata": {},
     "output_type": "execute_result"
    }
   ],
   "source": [
    "r2=robinSents[2]\n",
    "r2"
   ]
  },
  {
   "cell_type": "code",
   "execution_count": 27,
   "metadata": {},
   "outputs": [
    {
     "name": "stdout",
     "output_type": "stream",
     "text": [
      "Sir NNP PROPN\n",
      "Robin NNP PROPN\n",
      "rode VBD VERB\n",
      "north RB ADV\n",
      ", , PUNCT\n",
      "through IN ADP\n",
      "the DT DET\n",
      "dark JJ ADJ\n",
      "forest NN NOUN\n",
      "of IN ADP\n",
      "Ewing NNP PROPN\n",
      ", , PUNCT\n",
      "accompanied VBN VERB\n",
      "by IN ADP\n",
      "his PRP$ ADJ\n",
      "favorite JJ ADJ\n",
      "minstrels NNS NOUN\n",
      ". . PUNCT\n",
      "\n",
      "  SPACE\n"
     ]
    }
   ],
   "source": [
    "for word in r2:\n",
    "    print(word,word.tag_,word.pos_)"
   ]
  },
  {
   "cell_type": "code",
   "execution_count": 28,
   "metadata": {},
   "outputs": [
    {
     "data": {
      "text/plain": [
       "['as_doc',\n",
       " 'doc',\n",
       " 'end',\n",
       " 'end_char',\n",
       " 'ent_id',\n",
       " 'ent_id_',\n",
       " 'get_extension',\n",
       " 'get_lca_matrix',\n",
       " 'has_extension',\n",
       " 'has_vector',\n",
       " 'label',\n",
       " 'label_',\n",
       " 'lefts',\n",
       " 'lemma_',\n",
       " 'lower_',\n",
       " 'merge',\n",
       " 'n_lefts',\n",
       " 'n_rights',\n",
       " 'noun_chunks',\n",
       " 'orth_',\n",
       " 'rights',\n",
       " 'root',\n",
       " 'sent',\n",
       " 'sentiment',\n",
       " 'set_extension',\n",
       " 'similarity',\n",
       " 'start',\n",
       " 'start_char',\n",
       " 'string',\n",
       " 'subtree',\n",
       " 'text',\n",
       " 'text_with_ws',\n",
       " 'to_array',\n",
       " 'upper_',\n",
       " 'vector',\n",
       " 'vector_norm',\n",
       " 'vocab']"
      ]
     },
     "execution_count": 28,
     "metadata": {},
     "output_type": "execute_result"
    }
   ],
   "source": [
    "[prop for prop in dir(r2) if not prop.startswith('_')]"
   ]
  },
  {
   "cell_type": "code",
   "execution_count": 29,
   "metadata": {},
   "outputs": [
    {
     "data": {
      "text/plain": [
       "rode"
      ]
     },
     "execution_count": 29,
     "metadata": {},
     "output_type": "execute_result"
    }
   ],
   "source": [
    "r2.root"
   ]
  },
  {
   "cell_type": "code",
   "execution_count": 30,
   "metadata": {},
   "outputs": [
    {
     "data": {
      "text/plain": [
       "[Robin, north, ,, through, ,, accompanied, .]"
      ]
     },
     "execution_count": 30,
     "metadata": {},
     "output_type": "execute_result"
    }
   ],
   "source": [
    "list(r2.root.children)"
   ]
  },
  {
   "cell_type": "code",
   "execution_count": 31,
   "metadata": {},
   "outputs": [
    {
     "name": "stdout",
     "output_type": "stream",
     "text": [
      "Sir : []\n",
      "Robin : [Sir]\n",
      "rode : [Robin, north, ,, through, ,, accompanied, .]\n",
      "north : []\n",
      ", : []\n",
      "through : [forest]\n",
      "the : []\n",
      "dark : []\n",
      "forest : [the, dark, of]\n",
      "of : [Ewing]\n",
      "Ewing : []\n",
      ", : []\n",
      "accompanied : [by]\n",
      "by : [minstrels]\n",
      "his : []\n",
      "favorite : []\n",
      "minstrels : [his, favorite]\n",
      ". : [\n",
      "]\n",
      "\n",
      " : []\n"
     ]
    }
   ],
   "source": [
    "for word in r2:\n",
    "    print(word,':',str(list(word.children)))"
   ]
  },
  {
   "cell_type": "code",
   "execution_count": 32,
   "metadata": {},
   "outputs": [],
   "source": [
    "# st=sentenceTree(r2)\n",
    "# t,ts=st.render()\n",
    "# t.render('%%inline',tree_style=ts)"
   ]
  },
  {
   "cell_type": "code",
   "execution_count": 33,
   "metadata": {},
   "outputs": [
    {
     "name": "stdout",
     "output_type": "stream",
     "text": [
      "bold\n",
      "brave\n",
      "brave\n",
      "brave\n",
      "brave\n",
      "brave\n",
      "brave\n"
     ]
    }
   ],
   "source": [
    "for sent in robinSents:\n",
    "    for word in sent:\n",
    "        if 'Robin' in word.string:\n",
    "            for child in word.children:\n",
    "                if child.pos_=='ADJ':\n",
    "                    print(child)"
   ]
  },
  {
   "cell_type": "code",
   "execution_count": 34,
   "metadata": {},
   "outputs": [
    {
     "data": {
      "text/plain": [
       "[('', 1896),\n",
       " ('Elizabeth', 616),\n",
       " ('Darcy', 375),\n",
       " ('Bennet', 299),\n",
       " ('Jane', 287),\n",
       " ('Bingley', 232),\n",
       " ('Collins', 179),\n",
       " ('Wickham', 178),\n",
       " ('Lydia', 156),\n",
       " ('Lizzy', 95)]"
      ]
     },
     "execution_count": 34,
     "metadata": {},
     "output_type": "execute_result"
    }
   ],
   "source": [
    "Counter([w.string.strip() for w in pride.ents if w.label_=='PERSON']).most_common(10)"
   ]
  },
  {
   "cell_type": "code",
   "execution_count": 35,
   "metadata": {},
   "outputs": [],
   "source": [
    "def adjectiveDescribingCharacters(text,character):\n",
    "    sents=[sent for sent in pride.sents if character in sent.string]\n",
    "    adjectives=[]\n",
    "    for sent in sents:\n",
    "        for word in sent:\n",
    "            if character in word.string:\n",
    "                for child in word.children:\n",
    "                    if child.pos_=='ADJ':\n",
    "                        adjectives.append(child.string.strip())\n",
    "    return Counter(adjectives).most_common(10)"
   ]
  },
  {
   "cell_type": "code",
   "execution_count": 36,
   "metadata": {},
   "outputs": [
    {
     "data": {
      "text/plain": [
       "[('late', 7),\n",
       " ('superior', 1),\n",
       " ('poor', 1),\n",
       " ('handsome', 1),\n",
       " ('her', 1),\n",
       " ('little', 1),\n",
       " ('disagreeable', 1)]"
      ]
     },
     "execution_count": 36,
     "metadata": {},
     "output_type": "execute_result"
    }
   ],
   "source": [
    "adjectiveDescribingCharacters(pride,'Darcy')"
   ]
  },
  {
   "cell_type": "code",
   "execution_count": 37,
   "metadata": {},
   "outputs": [],
   "source": [
    "elizabethSentences=[sent for sent in pride.sents if 'Elizabeth' in sent.string]"
   ]
  },
  {
   "cell_type": "code",
   "execution_count": 38,
   "metadata": {},
   "outputs": [
    {
     "data": {
      "text/plain": [
       "Mr. Darcy walked off; and Elizabeth\n",
       "remained with no very cordial feelings toward him."
      ]
     },
     "execution_count": 38,
     "metadata": {},
     "output_type": "execute_result"
    }
   ],
   "source": [
    "elizabethSentences[3]"
   ]
  },
  {
   "cell_type": "code",
   "execution_count": 39,
   "metadata": {},
   "outputs": [],
   "source": [
    "# sentenceTree(elizabethSentences[3]).render()"
   ]
  },
  {
   "cell_type": "code",
   "execution_count": 40,
   "metadata": {},
   "outputs": [],
   "source": [
    "def verbsForCharacters(text,character):\n",
    "    sents=[sent for sent in pride.sents if character in sent.string]\n",
    "    charWords=[]\n",
    "    for sent in sents:\n",
    "        for word in sent:\n",
    "            if character in word.string:\n",
    "                charWords.append(word)\n",
    "    charAdjectives=[]\n",
    "    for word in charWords:\n",
    "        for ancestor in word.ancestors:\n",
    "            if ancestor.pos_.startswith('V'):\n",
    "                charAdjectives.append(ancestor.lemma_.strip())\n",
    "    return Counter(charAdjectives).most_common(20)"
   ]
  },
  {
   "cell_type": "code",
   "execution_count": 41,
   "metadata": {},
   "outputs": [
    {
     "data": {
      "text/plain": [
       "[('be', 173),\n",
       " ('say', 66),\n",
       " ('have', 33),\n",
       " ('see', 24),\n",
       " ('cry', 24),\n",
       " ('reply', 22),\n",
       " ('feel', 18),\n",
       " ('look', 17),\n",
       " ('make', 17),\n",
       " ('receive', 11),\n",
       " ('think', 10),\n",
       " ('take', 10),\n",
       " ('find', 9),\n",
       " ('go', 9),\n",
       " ('walk', 8),\n",
       " ('listen', 8),\n",
       " ('begin', 8),\n",
       " ('give', 8),\n",
       " ('turn', 7),\n",
       " ('smile', 7)]"
      ]
     },
     "execution_count": 41,
     "metadata": {},
     "output_type": "execute_result"
    }
   ],
   "source": [
    "elizabethVerbs=verbsForCharacters(pride,'Elizabeth')\n",
    "elizabethVerbs"
   ]
  },
  {
   "cell_type": "code",
   "execution_count": 42,
   "metadata": {},
   "outputs": [],
   "source": [
    "darcyVerbs=verbsForCharacters(pride,'Darcy')\n",
    "janeVerbs=verbsForCharacters(pride,'Jane')"
   ]
  },
  {
   "cell_type": "code",
   "execution_count": 43,
   "metadata": {},
   "outputs": [
    {
     "data": {
      "text/plain": [
       "[('be', 123),\n",
       " ('say', 21),\n",
       " ('see', 18),\n",
       " ('have', 17),\n",
       " ('think', 12),\n",
       " ('look', 9),\n",
       " ('feel', 7),\n",
       " ('make', 7),\n",
       " ('reply', 7),\n",
       " ('find', 6),\n",
       " ('know', 6),\n",
       " ('cry', 6),\n",
       " ('write', 6),\n",
       " ('seem', 5),\n",
       " ('tell', 5),\n",
       " ('receive', 5),\n",
       " ('hear', 5),\n",
       " ('take', 5),\n",
       " ('give', 5),\n",
       " ('consider', 4)]"
      ]
     },
     "execution_count": 43,
     "metadata": {},
     "output_type": "execute_result"
    }
   ],
   "source": [
    "janeVerbs"
   ]
  },
  {
   "cell_type": "code",
   "execution_count": 44,
   "metadata": {},
   "outputs": [
    {
     "data": {
      "text/plain": [
       "<matplotlib.axes._subplots.AxesSubplot at 0x2b93002c3160>"
      ]
     },
     "execution_count": 44,
     "metadata": {},
     "output_type": "execute_result"
    },
    {
     "data": {
      "image/png": "[encoded data removed]",
      "text/plain": [
       "<matplotlib.figure.Figure at 0x2b926425cef0>"
      ]
     },
     "metadata": {},
     "output_type": "display_data"
    }
   ],
   "source": [
    "def verbsToMatrix(verbCounts):\n",
    "    return pd.Series({t[0]:t[1] for t in verbCounts})\n",
    "\n",
    "verbsDF=pd.DataFrame({'Elizabeth':verbsToMatrix(elizabethVerbs),\n",
    "                     'Darcy':verbsToMatrix(darcyVerbs),\n",
    "                     'Jane':verbsToMatrix(janeVerbs)}).fillna(0)\n",
    "verbsDF.plot(kind='bar',figsize=(14,4))"
   ]
  },
  {
   "cell_type": "code",
   "execution_count": 45,
   "metadata": {},
   "outputs": [
    {
     "data": {
      "text/plain": [
       "<matplotlib.axes._subplots.AxesSubplot at 0x2b93406649b0>"
      ]
     },
     "execution_count": 45,
     "metadata": {},
     "output_type": "execute_result"
    },
    {
     "data": {
      "image/png": "[encoded data removed]",
      "text/plain": [
       "<matplotlib.figure.Figure at 0x2b93002ccf98>"
      ]
     },
     "metadata": {},
     "output_type": "display_data"
    }
   ],
   "source": [
    "probabilities=[word.prob for word in grail]\n",
    "pd.Series(probabilities).hist()"
   ]
  },
  {
   "cell_type": "code",
   "execution_count": 46,
   "metadata": {},
   "outputs": [
    {
     "data": {
      "text/plain": [
       "['a--',\n",
       " \"i'm--\",\n",
       " 'erbert',\n",
       " 'bedevere',\n",
       " 'bridgekeeper',\n",
       " 'yapping',\n",
       " 'bors',\n",
       " 'uuggggggh',\n",
       " 'huyah',\n",
       " 'aaaaugh',\n",
       " 'loimbard',\n",
       " 'auuuuuuuugh',\n",
       " 'patsy',\n",
       " 'thppppt',\n",
       " 'badger--',\n",
       " \"'cause\",\n",
       " 'j--',\n",
       " 'aaaugh',\n",
       " 'launcelot',\n",
       " 'badon']"
      ]
     },
     "execution_count": 46,
     "metadata": {},
     "output_type": "execute_result"
    }
   ],
   "source": [
    "list(set([word.string.strip().lower() for word in grail if word.prob < -19]))[:20]"
   ]
  },
  {
   "cell_type": "code",
   "execution_count": 47,
   "metadata": {},
   "outputs": [
    {
     "data": {
      "text/plain": [
       "[('bedevere', 61),\n",
       " ('head', 54),\n",
       " ('bridgekeeper', 18),\n",
       " ('zoot', 14),\n",
       " ('minstrel', 13),\n",
       " ('concorde', 12),\n",
       " ('rewr', 10),\n",
       " ('person', 8),\n",
       " ('crone', 7),\n",
       " ('aaaaugh', 7),\n",
       " ('a--', 5),\n",
       " ('twong', 4),\n",
       " ('aaaugh', 4),\n",
       " (\"we're--\", 4),\n",
       " ('number', 4),\n",
       " ('ninepence', 3),\n",
       " ('u--', 3),\n",
       " ('w--', 3),\n",
       " ('hiyya', 3),\n",
       " ('um--', 3)]"
      ]
     },
     "execution_count": 47,
     "metadata": {},
     "output_type": "execute_result"
    }
   ],
   "source": [
    "Counter([word.string.strip().lower()\n",
    "        for word in grail\n",
    "        if word.prob <-19.5]).most_common(20)"
   ]
  },
  {
   "cell_type": "code",
   "execution_count": 48,
   "metadata": {},
   "outputs": [
    {
     "data": {
      "text/plain": [
       "[('rosings', 16),\n",
       " ('gentlemanlike', 8),\n",
       " ('twelvemonth', 7),\n",
       " ('number', 5),\n",
       " ('quadrille', 4),\n",
       " ('mark', 4),\n",
       " ('repine', 4),\n",
       " ('discomposure', 3),\n",
       " ('regimentals', 3),\n",
       " ('suitableness', 3),\n",
       " ('overspread', 3),\n",
       " ('composedly', 3),\n",
       " ('fretfully', 2),\n",
       " ('archly', 2),\n",
       " ('unaffectedly', 2),\n",
       " ('panegyric', 2),\n",
       " ('precipitance', 2),\n",
       " ('prepossession', 2),\n",
       " ('discomposed', 2),\n",
       " ('gratulation', 2)]"
      ]
     },
     "execution_count": 48,
     "metadata": {},
     "output_type": "execute_result"
    }
   ],
   "source": [
    "Counter([word.string.strip().lower()\n",
    "        for word in pride\n",
    "        if word.prob <-19.5\n",
    "        and word.is_alpha\n",
    "        and word.pos_ != 'PROPN']).most_common(20)"
   ]
  },
  {
   "cell_type": "code",
   "execution_count": 49,
   "metadata": {},
   "outputs": [],
   "source": [
    "def ngrams(doc,n):\n",
    "    doc=[word for word in doc\n",
    "        if word.is_alpha\n",
    "        if not word.string.isupper()]\n",
    "    return list(zip(*[doc[i:] for i in range(n)]))"
   ]
  },
  {
   "cell_type": "code",
   "execution_count": 50,
   "metadata": {},
   "outputs": [],
   "source": [
    "grailGrams=set(ngrams(grail,3))"
   ]
  },
  {
   "cell_type": "code",
   "execution_count": 51,
   "metadata": {},
   "outputs": [
    {
     "name": "stdout",
     "output_type": "stream",
     "text": [
      "(donaeis, requiem, Pie)\n",
      "(dona, eis, requiem)\n",
      "(Ni, Ni, Ni)\n",
      "(Aah, boom, pweeng)\n",
      "(domine, witch, witch)\n",
      "(wicked, wicked, Zoot)\n",
      "(taunting, Dappy, Today)\n",
      "(Launcelot, Launcelot, Launcelot)\n",
      "(squeak, creak, whispering)\n",
      "(Ni, Ni, Ni)\n",
      "(clop, clop, clop)\n",
      "(hee, hee, Hee)\n",
      "(Ni, Shh, Shh)\n",
      "(Iesu, domine, dona)\n",
      "(clop, clop, clop)\n",
      "(sawwwww, clunk, crash)\n",
      "(rewr, rewr, rewr)\n",
      "(squeak, clllank, What)\n",
      "(squeak, squeak, clllank)\n",
      "(Bon, magne, Over)\n",
      "(mayest, blow, thine)\n",
      "(Hee, hee, hee)\n",
      "(ecky, ecky, ecky)\n",
      "(clop, clop, clop)\n",
      "(Heh, heh, heeh)\n",
      "(Thsss, boom, Ayy)\n",
      "(Umm, clop, clop)\n",
      "(va, Bon, magne)\n",
      "(Hurry, Sir, Launcelot)\n",
      "(Ni, Ni, Ni)\n",
      "(yes, Saint, Iiiives)\n",
      "(nnnnniggets, Thpppppt, Thppt)\n",
      "(clank, twong, Run)\n",
      "(haw, heh, clack)\n",
      "(clop, clop, Whoa)\n",
      "(Iesu, domine, witch)\n",
      "(squeak, squeak, rrrr)\n",
      "(No, auuuuuuuugh, Hee)\n",
      "(ecky, ecky, pikang)\n",
      "(whispering, un, lapin)\n",
      "(clop, Halt, horn)\n",
      "(owli, zhiv, Ni)\n",
      "(k, nnnnniggets, Thpppppt)\n",
      "(heh, chanting, dona)\n",
      "(Saint, Iiiives, Iiiiives)\n",
      "(Pie, Iesu, domine)\n",
      "(Quoi, Un, cadeau)\n",
      "(Ni, Ni, Shh)\n",
      "(pweeng, boom, boom)\n",
      "(dappy, English, k)\n",
      "(Iesu, domine, dona)\n",
      "(mangy, scots, git)\n",
      "(Cherries, Mud, Churches)\n",
      "(Launcelot, Launcelot, Launcelot)\n",
      "(Neee, wom, Neee)\n",
      "(squeak, squeak, squeak)\n",
      "(goodem, zoo, owli)\n",
      "(eis, requiem, bonk)\n",
      "(squeak, squeak, Aaaaugh)\n",
      "(Round, Table, clop)\n",
      "(uh, Camelot, Hurry)\n",
      "(dorsal, guiding, feathers)\n",
      "(uuggggggh, Aauuggghhh, Aaauggh)\n",
      "(Iesu, domine, bonk)\n",
      "(ooh, twang, chanting)\n",
      "(hiyaah, etc, chops)\n",
      "(done, Aaaugh, Aaaugh)\n",
      "(Wayy, twang, Wayy)\n",
      "(requiem, Pie, Iesu)\n",
      "(clop, clop, clop)\n",
      "(Thppppt, taunting, Fiends)\n",
      "(awaaaaay, roar, Keep)\n",
      "(ha, Huy, Uuh)\n",
      "(dead, rewr, clang)\n",
      "(purest, shimmering, samite)\n",
      "(Silence, foul, temptress)\n",
      "(Chicken, kick, Chickennn)\n",
      "(k, nnniggets, Thpppt)\n",
      "(rewr, Old, crone)\n",
      "(awaaay, Run, awaaaaay)\n",
      "(Iesu, domine, bonk)\n",
      "(Oui, oui, Hurry)\n",
      "(Aaagh, Ooh, King)\n",
      "(requiem, Pie, Iesu)\n",
      "(Hallo, Allo, Who)\n",
      "(rewr, rewr, rewr)\n",
      "(dona, eis, requiem)\n",
      "(Ni, Ni, Shh)\n",
      "(twang, whispering, Forgive)\n",
      "(squeak, squeak, creak)\n",
      "(eis, requiem, Pie)\n",
      "(Concorde, Concorde, Speak)\n",
      "(and, Neee, wom)\n",
      "(Camelot, Hurry, Sir)\n",
      "(thonk, Um, woosh)\n",
      "(trusty, servant, Patsy)\n",
      "(unsingable, We, opera)\n",
      "(Oooh, ptoo, Ha)\n",
      "(domine, dona, eis)\n",
      "(Hallo, pause, Hallo)\n",
      "(dona, eis, requiem)\n",
      "(clop, clop, clop)\n",
      "(haw, haw, haw)\n",
      "(thud, Allo, dappy)\n",
      "(rewr, rewr, rewr)\n",
      "(Haw, haw, heh)\n",
      "(Agh, Ni, Ni)\n",
      "(Shh, Shh, Shh)\n",
      "(dead, Ninepence, clang)\n",
      "(Launcelot, angels, sing)\n",
      "(domine, dona, eis)\n",
      "(English, k, niggets)\n",
      "(haw, haw, haw)\n",
      "(chanting, Pie, Iesu)\n",
      "(Launcelot, Launcelot, angels)\n",
      "(Ni, Ni, Ni)\n",
      "(carve, aaggggh, He)\n",
      "(Quite, pweeng, boom)\n",
      "(Pie, Iesu, domine)\n",
      "(lobbest, thou, thy)\n",
      "(twong, mooooooo, Jesus)\n",
      "(Brave, Sir, Gallahad)\n",
      "(Shh, Shh, Shh)\n",
      "(Pie, Iesu, domine)\n",
      "(un, cadeau, Oui)\n",
      "(domine, bonk, dona)\n",
      "(squeak, squeak, squeak)\n",
      "(Haw, Haw, haw)\n",
      "(wom, Neee, wom)\n",
      "(Run, awaaaaay, roar)\n",
      "(Iiiiives, Oooohoohohooo, No)\n",
      "(quack, quack, quack)\n",
      "(Hyy, Hya, Hiyya)\n",
      "(domine, Wayy, splash)\n",
      "(Olfin, Bedwere, of)\n",
      "(squeak, squeak, squeak)\n",
      "(Camelot, Camelot, Camelot)\n",
      "(squeak, thump, squeak)\n",
      "(heh, heeh, ooh)\n",
      "(stops, Aaagh, Ooh)\n",
      "(uh, Launcelot, Galahad)\n",
      "(Pie, Iesu, domine)\n",
      "(Launcelot, Launcelot, Launcelot)\n",
      "(Ha, haw, haw)\n",
      "(squeak, squeak, squeak)\n",
      "(squeak, squeak, squeak)\n",
      "(Away, away, varletesses)\n",
      "(clunk, bang, rewr)\n",
      "(Iesu, domine, dona)\n",
      "(Shut, uuup, singing)\n",
      "(Say, Ni, Aggh)\n",
      "(Castle, Aaagh, Our)\n",
      "(radio, Launcelot, Launcelot)\n",
      "(Pie, Iesu, domine)\n",
      "(squeak, squeak, squeak)\n",
      "(scarper, singing, Brave)\n",
      "(Hiyya, Hey, Hiyya)\n",
      "(Gawain, Ector, And)\n",
      "(Ninepence, clang, Bring)\n",
      "(clunk, creak, witch)\n",
      "(boom, pweeng, boom)\n",
      "(Aaauugh, Black, Beast)\n",
      "(requiem, bonk, Pie)\n",
      "(minstrels, singing, Bravely)\n",
      "(Churches, Lead, Lead)\n",
      "(vache, mooo, If)\n",
      "(stops, stab, Aagh)\n",
      "(Ni, Ni, Ni)\n",
      "(domine, dona, eis)\n",
      "(Sir, Bedevere, Explain)\n",
      "(on, Concorde, thwonk)\n",
      "(clop, rewr, rewr)\n",
      "(Idiom, sir, Idiom)\n",
      "(Iesu, domine, Wayy)\n",
      "(today, Heee, Hoa)\n",
      "(squeak, squeak, squeak)\n",
      "(Splendid, Aah, boom)\n",
      "(brave, Sir, Launcelot)\n",
      "(Thy, Hah, clunk)\n",
      "(dona, eis, requiem)\n",
      "(Ni, Shh, Shh)\n",
      "(clop, clop, clop)\n",
      "(Right, Yeaaah, Yeaah)\n",
      "(Wayy, twang, whispering)\n",
      "(Ni, Ni, Ow)\n",
      "(Ni, Ni, Ni)\n",
      "(farcical, aquatic, ceremony)\n",
      "(Launcelot, Hurry, Shut)\n",
      "(Say, Ecky, ecky)\n",
      "(Aaagh, King, Arthur)\n",
      "(Ni, Ow, Ow)\n",
      "(rrrr, drilllll, sawwwww)\n",
      "(chanting, Pie, Iesu)\n",
      "(Thppt, Thppt, What)\n",
      "(Just, uuggggggh, Aauuggghhh)\n",
      "(squeak, squeak, squeak)\n",
      "(twang, chanting, Pie)\n",
      "(fair, cop, Burn)\n",
      "(squeak, squeak, squeak)\n",
      "(individually, clop, clop)\n",
      "(taunting, Fiends, tear)\n",
      "(domine, dona, eisrequiem)\n",
      "(supports, whop, clunk)\n",
      "(resumes, Launcelot, Launcelot)\n",
      "(crone, rewr, music)\n",
      "(Table, clop, clop)\n",
      "(uh, Launcelot, Galahad)\n",
      "(Ay, up, Thsss)\n",
      "(Shh, Shh, Shh)\n",
      "(Hiyaah, clang, Aaaaaaaah)\n",
      "(Aaaaugh, Aaaugh, etc)\n",
      "(Shh, Shh, Shh)\n",
      "(zoo, owli, zhiv)\n",
      "(lapin, de, bois)\n",
      "(Mud, Churches, Churches)\n",
      "(pweeng, boom, clap)\n",
      "(mooooooo, Jesus, Christ)\n",
      "(gravy, Cherries, Mud)\n",
      "(Ni, Ni, Ni)\n",
      "(Aaaugh, dramatic, chord)\n",
      "(squeak, squeak, squeak)\n",
      "(Thpppt, taunting, We)\n",
      "(clop, clop, clop)\n",
      "(etc, Aaaaaah, Aaaaaaaaah)\n",
      "(impersonate, Clark, Gable)\n",
      "(clang, Hiyaah, clang)\n",
      "(heeh, ooh, twang)\n",
      "(Halt, horn, Hallo)\n",
      "(Ecky, ecky, ecky)\n",
      "(Pie, Iesu, domine)\n",
      "(shimmering, samite, held)\n",
      "(number, thou, shalt)\n",
      "(drilllll, sawwwww, clunk)\n",
      "(Aaaugh, Aaaugh, Augh)\n",
      "(rewr, squeak, squeak)\n",
      "(Ni, Ni, Ni)\n",
      "(roar, Shh, Shh)\n",
      "(Hoa, crash, Hoo)\n",
      "(chanting, dona, eis)\n",
      "(thou, mayest, blow)\n",
      "(zoop, boing, goodem)\n",
      "(requiem, Pie, Iesu)\n",
      "(Iesu, domine, donaeis)\n",
      "(ptoo, Ha, ha)\n",
      "(auuuuuuuugh, Hee, hee)\n",
      "(de, bois, Quoi)\n",
      "(clank, scribble, scribble)\n",
      "(rrrr, rrrr, rrrr)\n",
      "(domine, bonk, dona)\n",
      "(stops, Aaagh, clang)\n",
      "(most, twong, baaaa)\n",
      "(Heee, Hoa, crash)\n",
      "(dona, eis, requiem)\n",
      "(place, Aaaaugh, Aaaaugh)\n",
      "(rewr, rewr, rewr)\n",
      "(Woa, wayy, twang)\n",
      "(Tim, Quite, pweeng)\n",
      "(fwump, Concorde, Concorde)\n",
      "(squeak, Aaaugh, dramatic)\n",
      "(clop, clop, clop)\n",
      "(clop, clop, Halt)\n",
      "(English, k, nnnnniggets)\n",
      "(sell, shrubberies, Ni)\n",
      "(boing, goodem, zoo)\n",
      "(Uuh, Aaah, Ha)\n",
      "(shrubberies, Yes, Shrubberies)\n",
      "(Ages, Umhm, uh)\n",
      "(eis, requiem, Wayy)\n",
      "(Ow, Ow, Ow)\n",
      "(samite, held, aloft)\n",
      "(servant, Sir, Launcelot)\n",
      "(Launcelot, Launcelot, police)\n",
      "(Ni, Ni, Ni)\n",
      "(Neee, wom, Those)\n",
      "(whop, clunk, creak)\n",
      "(Grail, individually, clop)\n",
      "(Pie, Iesu, domine)\n",
      "(Aauuggghhh, Aaauggh, Do)\n",
      "(Christ, thud, Allo)\n",
      "(pansy, clang, Huyah)\n",
      "(English, k, nnniggets)\n",
      "(un, lapin, lapin)\n",
      "(requiem, bonk, Pie)\n",
      "(clunk, crash, clang)\n",
      "(clang, Aaaaaaaah, chops)\n",
      "(Herbert, Erbert, We)\n",
      "(liege, trumpets, Camelot)\n",
      "(squeak, squeak, squeak)\n",
      "(Aah, Aaah, Hyy)\n",
      "(zhiv, Ni, Therefore)\n",
      "(eis, requiem, Heh)\n",
      "(wise, Sir, Bedevere)\n",
      "(domine, dona, eis)\n",
      "(Pie, Iesu, domine)\n",
      "(Ni, Ni, Ni)\n",
      "(lose, Gawain, Ector)\n",
      "(Ni, Agh, Ni)\n",
      "(awhile, Midget, Crapper)\n",
      "(chanting, Pie, Iesu)\n",
      "(Zoot, Just, Zoot)\n",
      "(thud, clang, Bring)\n",
      "(haw, haw, Haw)\n",
      "(dona, eis, requiem)\n",
      "(dona, eisrequiem, How)\n",
      "(attack, Ulk, thump)\n",
      "(scribble, scribble, scribble)\n",
      "(Hee, hee, heh)\n",
      "(Peng, and, Neee)\n",
      "(Shrubber, arrange, design)\n",
      "(thump, squeak, boom)\n",
      "(Armaments, Armaments, Chapter)\n",
      "(scribble, scribble, fold)\n",
      "(thud, thud, thud)\n",
      "(lapin, lapin, de)\n",
      "(squeak, squeak, squeak)\n",
      "(bois, Quoi, Un)\n",
      "(clop, whinny, whinny)\n",
      "(Hya, Hiyya, Ha)\n",
      "(Aah, Hiyah, Aah)\n",
      "(clop, clop, clop)\n",
      "(bonk, dona, eis)\n",
      "(dangerous, Sir, Launcelot)\n",
      "(wooden, clank, twong)\n",
      "(Huyah, clang, Hiyaah)\n",
      "(dona, eis, requiem)\n",
      "(shrubberies, Ni, cough)\n",
      "(twong, baaaa, Jesus)\n",
      "(Morning, Oooh, ptoo)\n",
      "(Grenade, chanting, Pie)\n",
      "(vache, Quoi, Fetchez)\n",
      "(Iesu, domine, dona)\n",
      "(squeak, squeak, squeak)\n",
      "(Sir, Launcelot, Hurry)\n",
      "(Ow, Ow, Agh)\n",
      "(Dramatically, sir, Dramatically)\n",
      "(clop, clop, clop)\n",
      "(Yeaaah, Yeaah, Did)\n",
      "(squeak, squeak, squeak)\n",
      "(Hiyah, Aah, Aaah)\n",
      "(bonk, Pie, Iesu)\n",
      "(Sir, Bedevere, Knight)\n",
      "(Run, awaaay, Run)\n",
      "(wayy, twang, splash)\n",
      "(Look, squeak, Aaaugh)\n",
      "(Launcelot, Galahad, and)\n",
      "(hee, hee, hee)\n",
      "(pause, Hallo, Allo)\n",
      "(pikang, zoop, boing)\n",
      "(eis, requiem, witch)\n",
      "(Pie, Iesu, domine)\n",
      "(clop, clop, Ooh)\n",
      "(howl, clop, clop)\n",
      "(Iesu, domine, dona)\n",
      "(Ector, And, Bors)\n",
      "(sir, fwump, Concorde)\n",
      "(clang, Huyah, clang)\n",
      "(Aaaugh, Augh, Ohh)\n",
      "(afoot, Anarcho, syndicalism)\n",
      "(Wayy, splash, Ho)\n",
      "(Quoi, Fetchez, la)\n",
      "(Fetchez, la, vache)\n",
      "(Huy, Uuh, Aaah)\n",
      "(requiem, Wayy, twang)\n",
      "(Allo, dappy, English)\n",
      "(Fetchez, la, vache)\n",
      "(Sir, Launcelot, Uh)\n",
      "(cadeau, Oui, oui)\n",
      "(Launcelot, Launcelot, Launcelot)\n",
      "(boom, Thsss, boom)\n",
      "(Bedwere, of, Rheged)\n",
      "(Shh, Ni, Ni)\n",
      "(then, twong, mooooooo)\n",
      "(Thou, hast, vouchsafed)\n",
      "(relics, Brother, Maynard)\n",
      "(bonk, dona, eis)\n",
      "(Pie, Iesu, domine)\n",
      "(haw, haw, Ha)\n",
      "(Ulk, thump, The)\n",
      "(squeak, Aaaaugh, Aaaugh)\n",
      "(la, vache, mooo)\n",
      "(Launcelot, and, Galahad)\n",
      "(Ni, Ni, Ni)\n",
      "(hee, Hee, hee)\n",
      "(Thpppppt, Thppt, Thppt)\n",
      "(ho, Woa, wayy)\n",
      "(Charge, squeak, squeak)\n",
      "(Iiiives, Iiiiives, Oooohoohohooo)\n",
      "(Aaaaaaaaah, woosh, kills)\n",
      "(knights, Nay, Nay)\n",
      "(Concorde, thwonk, Message)\n",
      "(of, Olfin, Bedwere)\n",
      "(rrrr, rrrr, drilllll)\n",
      "(Aaah, hiyaah, etc)\n",
      "(clop, clop, clop)\n",
      "(Ni, Ni, Ni)\n",
      "(Ni, Ni, Ni)\n",
      "(clop, clop, whinny)\n",
      "(persons, taunting, Dappy)\n",
      "(away, Thppppt, taunting)\n",
      "(clang, squeak, squeak)\n",
      "(eis, requiem, bonk)\n",
      "(ecky, pikang, zoop)\n",
      "(clop, clop, boom)\n",
      "(knight, Sir, Galahad)\n",
      "(Aaaaaah, Aaaaaaaaah, woosh)\n",
      "(twang, Wayy, twang)\n",
      "(rewr, rewr, Old)\n",
      "(bang, rewr, squeak)\n",
      "(music, resumes, Launcelot)\n",
      "(Ni, Shh, Ni)\n",
      "(clop, clop, Halt)\n",
      "(Shh, Shh, Shh)\n",
      "(French, fellows, outwit)\n",
      "(laden, swallows, flights)\n",
      "(domine, donaeis, requiem)\n",
      "(anarcho, syndicalist, commune)\n",
      "(Aaah, Hyy, Hya)\n",
      "(squeak, rrrr, rrrr)\n",
      "(rewr, clang, Bring)\n",
      "(hee, hee, hee)\n",
      "(haw, Haw, Haw)\n",
      "(squeak, squeak, squeak)\n",
      "(Ni, Ni, Ni)\n",
      "(chanting, Pie, Iesu)\n",
      "(bathing, dressing, undressing)\n",
      "(bonk, Pie, Iesu)\n",
      "(Shh, Shh, Shh)\n",
      "(Launcelot, Launcelot, Launcelot)\n",
      "(Launcelot, Galahad, and)\n",
      "(Hurry, Sir, Launcelot)\n",
      "(Listen, Herbert, Erbert)\n",
      "(Ni, Ni, Agh)\n",
      "(Old, crone, rewr)\n",
      "(Churches, Churches, Lead)\n",
      "(dappy, English, k)\n",
      "(clop, clop, clop)\n",
      "(Ho, ho, Woa)\n",
      "(trumpets, Camelot, Camelot)\n",
      "(Quite, indefatigable, Between)\n",
      "(chanting, Pie, Iesu)\n",
      "(nnniggets, Thpppt, taunting)\n",
      "(Thsss, boom, Ayy)\n",
      "(Sir, Launcelot, sir)\n",
      "(la, vache, Quoi)\n",
      "(clop, clop, rewr)\n",
      "(eis, requiem, Pie)\n",
      "(Ha, ha, Hiyya)\n",
      "(Aaaaugh, Aaaaugh, Stop)\n",
      "(clop, clop, clop)\n",
      "(fold, fold, twong)\n"
     ]
    }
   ],
   "source": [
    "for gram in grailGrams:\n",
    "    if sum([word.prob for word in gram])<-40:\n",
    "        print(gram)"
   ]
  },
  {
   "cell_type": "code",
   "execution_count": 52,
   "metadata": {},
   "outputs": [],
   "source": [
    "coconut, africanSwallow, europeanSwallow, horse = nlp('coconut'), nlp('African Swallow'), nlp('European Swallow'), nlp('horse')"
   ]
  },
  {
   "cell_type": "code",
   "execution_count": 53,
   "metadata": {},
   "outputs": [
    {
     "data": {
      "text/plain": [
       "0.1566088129550776"
      ]
     },
     "execution_count": 53,
     "metadata": {},
     "output_type": "execute_result"
    }
   ],
   "source": [
    "coconut.similarity(horse)"
   ]
  },
  {
   "cell_type": "code",
   "execution_count": 54,
   "metadata": {},
   "outputs": [
    {
     "data": {
      "text/plain": [
       "0.3352586340735025"
      ]
     },
     "execution_count": 54,
     "metadata": {},
     "output_type": "execute_result"
    }
   ],
   "source": [
    "africanSwallow.similarity(horse)"
   ]
  },
  {
   "cell_type": "code",
   "execution_count": 55,
   "metadata": {},
   "outputs": [
    {
     "data": {
      "text/plain": [
       "0.8596378859289445"
      ]
     },
     "execution_count": 55,
     "metadata": {},
     "output_type": "execute_result"
    }
   ],
   "source": [
    "africanSwallow.similarity(europeanSwallow)"
   ]
  },
  {
   "cell_type": "code",
   "execution_count": 56,
   "metadata": {},
   "outputs": [],
   "source": [
    "prideNouns=[word for word in pride if word.pos_.startswith('N')][:150]"
   ]
  },
  {
   "cell_type": "code",
   "execution_count": 57,
   "metadata": {},
   "outputs": [],
   "source": [
    "prideNounVecs=[word.vector for word in prideNouns]\n",
    "prideNounLabels=[word.string.strip() for word in prideNouns]"
   ]
  },
  {
   "cell_type": "code",
   "execution_count": 58,
   "metadata": {},
   "outputs": [
    {
     "data": {
      "text/plain": [
       "(300,)"
      ]
     },
     "execution_count": 58,
     "metadata": {},
     "output_type": "execute_result"
    }
   ],
   "source": [
    "prideNounVecs[0].shape"
   ]
  },
  {
   "cell_type": "code",
   "execution_count": 68,
   "metadata": {},
   "outputs": [],
   "source": [
    "lsa = TruncatedSVD(n_components=2)\n",
    "lsaOut = lsa.fit_transform(prideNounVecs)"
   ]
  },
  {
   "cell_type": "code",
   "execution_count": 74,
   "metadata": {},
   "outputs": [],
   "source": [
    "xs,ys=lsaOut[:0],lsaOut[:1]\n",
    "for i in range(len(xs)):\n",
    "    plt.scatter(xs[i],ys[i])\n",
    "    plt.annotate(prideNounLabels[i],(xs[i],ys[i]))"
   ]
  },
  {
   "cell_type": "code",
   "execution_count": 61,
   "metadata": {},
   "outputs": [],
   "source": [
    "tfidf=TfidfVectorizer(input='filename',decode_error='ignore',use_idf=False)"
   ]
  },
  {
   "cell_type": "code",
   "execution_count": 62,
   "metadata": {},
   "outputs": [],
   "source": [
    "inauguralFilenames=sorted(glob('inaugural/*'))\n",
    "\n",
    "labels = [filename.split('/')[1] for filename in inauguralFilenames]\n",
    "labels = [filename.split('.')[0] for filename in labels]\n",
    "\n",
    "lengths = [len(open(filename, errors='ignore').read())/100 for filename in inauguralFilenames]\n",
    "\n",
    "parties = 'rrrbbrrrbbbbbrrbbrrbrrrbbrrbr'"
   ]
  },
  {
   "cell_type": "code",
   "execution_count": 63,
   "metadata": {},
   "outputs": [],
   "source": [
    "tfidfOut = tfidf.fit_transform(inauguralFilenames)"
   ]
  },
  {
   "cell_type": "code",
   "execution_count": 64,
   "metadata": {},
   "outputs": [],
   "source": [
    "tfidfOut=tfidf.fit_transform(inauguralFilenames)"
   ]
  },
  {
   "cell_type": "code",
   "execution_count": 65,
   "metadata": {},
   "outputs": [
    {
     "data": {
      "text/plain": [
       "(29, 6177)"
      ]
     },
     "execution_count": 65,
     "metadata": {},
     "output_type": "execute_result"
    }
   ],
   "source": [
    "tfidfOut.shape"
   ]
  },
  {
   "cell_type": "code",
   "execution_count": 66,
   "metadata": {},
   "outputs": [],
   "source": [
    "lsaOut = lsa.fit_transform(tfidfOut.todense())"
   ]
  },
  {
   "cell_type": "code",
   "execution_count": 67,
   "metadata": {},
   "outputs": [
    {
     "data": {
      "image/png": "[encoded data removed]",
      "text/plain": [
       "<matplotlib.figure.Figure at 0x2b93c200e518>"
      ]
     },
     "metadata": {},
     "output_type": "display_data"
    }
   ],
   "source": [
    "xs, ys = lsaOut[:,0], lsaOut[:,1]\n",
    "for i in range(len(xs)): \n",
    "    plt.scatter(xs[i], ys[i], c=parties[i], s=lengths[i], alpha=0.5)\n",
    "    plt.annotate(labels[i], (xs[i], ys[i]))"
   ]
  },
  {
   "cell_type": "code",
   "execution_count": 75,
   "metadata": {},
   "outputs": [],
   "source": [
    "inaugural = [nlp(open(doc, errors='ignore').read()) for doc in inauguralFilenames]"
   ]
  },
  {
   "cell_type": "code",
   "execution_count": 76,
   "metadata": {},
   "outputs": [],
   "source": [
    "sentLengths=[np.mean([len(sent) for sent in doc.sents]) for doc in inaugural]"
   ]
  },
  {
   "cell_type": "code",
   "execution_count": 77,
   "metadata": {},
   "outputs": [
    {
     "data": {
      "text/plain": [
       "<matplotlib.axes._subplots.AxesSubplot at 0x2b93c200eeb8>"
      ]
     },
     "execution_count": 77,
     "metadata": {},
     "output_type": "execute_result"
    },
    {
     "data": {
      "image/png": "[encoded data removed]",
      "text/plain": [
       "<matplotlib.figure.Figure at 0x2b93c2016f28>"
      ]
     },
     "metadata": {},
     "output_type": "display_data"
    }
   ],
   "source": [
    "pd.Series(sentLengths,index=labels).plot(kind='bar')"
   ]
  },
  {
   "cell_type": "code",
   "execution_count": 79,
   "metadata": {},
   "outputs": [],
   "source": [
    "inauguralSeries=[pd.Series(Counter([word.string.strip().lower\n",
    "                                   for word in doc]))/len(doc)\n",
    "                                   for doc in inaugural]\n",
    "seriesDict={label:series for label,series in zip(labels,inauguralSeries)}\n",
    "inauguralDf=pd.DataFrame(seriesDict).T.fillna(0)"
   ]
  },
  {
   "cell_type": "code",
   "execution_count": 80,
   "metadata": {},
   "outputs": [
    {
     "data": {
      "text/html": [
       "<div>\n",
       "<style scoped>\n",
       "    .dataframe tbody tr th:only-of-type {\n",
       "        vertical-align: middle;\n",
       "    }\n",
       "\n",
       "    .dataframe tbody tr th {\n",
       "        vertical-align: top;\n",
       "    }\n",
       "\n",
       "    .dataframe thead th {\n",
       "        text-align: right;\n",
       "    }\n",
       "</style>\n",
       "<table border=\"1\" class=\"dataframe\">\n",
       "  <thead>\n",
       "    <tr style=\"text-align: right;\">\n",
       "      <th></th>\n",
       "      <th>&lt;built-in method lower of str object at 0x2b93c27a15a8&gt;</th>\n",
       "      <th>&lt;built-in method lower of str object at 0x2b93c27a1570&gt;</th>\n",
       "      <th>&lt;built-in method lower of str object at 0x2b923476bb90&gt;</th>\n",
       "      <th>&lt;built-in method lower of str object at 0x2b93c258be30&gt;</th>\n",
       "      <th>&lt;built-in method lower of str object at 0x2b923491b030&gt;</th>\n",
       "      <th>&lt;built-in method lower of str object at 0x2b93c27a1618&gt;</th>\n",
       "      <th>&lt;built-in method lower of str object at 0x2b93c27a1688&gt;</th>\n",
       "      <th>&lt;built-in method lower of str object at 0x2b93c258f630&gt;</th>\n",
       "      <th>&lt;built-in method lower of str object at 0x2b93c27a16c0&gt;</th>\n",
       "      <th>&lt;built-in method lower of str object at 0x2b93c27a16f8&gt;</th>\n",
       "      <th>...</th>\n",
       "      <th>&lt;built-in method lower of str object at 0x2b93c3876458&gt;</th>\n",
       "      <th>&lt;built-in method lower of str object at 0x2b93c3876490&gt;</th>\n",
       "      <th>&lt;built-in method lower of str object at 0x2b93c38764c8&gt;</th>\n",
       "      <th>&lt;built-in method lower of str object at 0x2b93c3876500&gt;</th>\n",
       "      <th>&lt;built-in method lower of str object at 0x2b93c3876538&gt;</th>\n",
       "      <th>&lt;built-in method lower of str object at 0x2b93c3876570&gt;</th>\n",
       "      <th>&lt;built-in method lower of str object at 0x2b93c38765a8&gt;</th>\n",
       "      <th>&lt;built-in method lower of str object at 0x2b93c38765e0&gt;</th>\n",
       "      <th>&lt;built-in method lower of str object at 0x2b93c3876618&gt;</th>\n",
       "      <th>&lt;built-in method lower of str object at 0x2b93c3876650&gt;</th>\n",
       "    </tr>\n",
       "  </thead>\n",
       "  <tbody>\n",
       "    <tr>\n",
       "      <th>1901-McKinley</th>\n",
       "      <td>0.000406</td>\n",
       "      <td>0.000406</td>\n",
       "      <td>0.002436</td>\n",
       "      <td>0.000406</td>\n",
       "      <td>0.044255</td>\n",
       "      <td>0.000406</td>\n",
       "      <td>0.000406</td>\n",
       "      <td>0.000406</td>\n",
       "      <td>0.000406</td>\n",
       "      <td>0.000406</td>\n",
       "      <td>...</td>\n",
       "      <td>0.0</td>\n",
       "      <td>0.0</td>\n",
       "      <td>0.0</td>\n",
       "      <td>0.0</td>\n",
       "      <td>0.0</td>\n",
       "      <td>0.0</td>\n",
       "      <td>0.0</td>\n",
       "      <td>0.0</td>\n",
       "      <td>0.0</td>\n",
       "      <td>0.0</td>\n",
       "    </tr>\n",
       "    <tr>\n",
       "      <th>1905-Roosevelt</th>\n",
       "      <td>0.000000</td>\n",
       "      <td>0.000000</td>\n",
       "      <td>0.004570</td>\n",
       "      <td>0.000000</td>\n",
       "      <td>0.051188</td>\n",
       "      <td>0.000000</td>\n",
       "      <td>0.000000</td>\n",
       "      <td>0.000000</td>\n",
       "      <td>0.000000</td>\n",
       "      <td>0.000000</td>\n",
       "      <td>...</td>\n",
       "      <td>0.0</td>\n",
       "      <td>0.0</td>\n",
       "      <td>0.0</td>\n",
       "      <td>0.0</td>\n",
       "      <td>0.0</td>\n",
       "      <td>0.0</td>\n",
       "      <td>0.0</td>\n",
       "      <td>0.0</td>\n",
       "      <td>0.0</td>\n",
       "      <td>0.0</td>\n",
       "    </tr>\n",
       "    <tr>\n",
       "      <th>1909-Taft</th>\n",
       "      <td>0.000000</td>\n",
       "      <td>0.000000</td>\n",
       "      <td>0.001868</td>\n",
       "      <td>0.000000</td>\n",
       "      <td>0.037024</td>\n",
       "      <td>0.000000</td>\n",
       "      <td>0.000000</td>\n",
       "      <td>0.000000</td>\n",
       "      <td>0.000000</td>\n",
       "      <td>0.000000</td>\n",
       "      <td>...</td>\n",
       "      <td>0.0</td>\n",
       "      <td>0.0</td>\n",
       "      <td>0.0</td>\n",
       "      <td>0.0</td>\n",
       "      <td>0.0</td>\n",
       "      <td>0.0</td>\n",
       "      <td>0.0</td>\n",
       "      <td>0.0</td>\n",
       "      <td>0.0</td>\n",
       "      <td>0.0</td>\n",
       "    </tr>\n",
       "    <tr>\n",
       "      <th>1913-Wilson</th>\n",
       "      <td>0.000000</td>\n",
       "      <td>0.000000</td>\n",
       "      <td>0.003661</td>\n",
       "      <td>0.000000</td>\n",
       "      <td>0.052824</td>\n",
       "      <td>0.000000</td>\n",
       "      <td>0.000000</td>\n",
       "      <td>0.000000</td>\n",
       "      <td>0.000000</td>\n",
       "      <td>0.000000</td>\n",
       "      <td>...</td>\n",
       "      <td>0.0</td>\n",
       "      <td>0.0</td>\n",
       "      <td>0.0</td>\n",
       "      <td>0.0</td>\n",
       "      <td>0.0</td>\n",
       "      <td>0.0</td>\n",
       "      <td>0.0</td>\n",
       "      <td>0.0</td>\n",
       "      <td>0.0</td>\n",
       "      <td>0.0</td>\n",
       "    </tr>\n",
       "    <tr>\n",
       "      <th>1917-Wilson</th>\n",
       "      <td>0.000000</td>\n",
       "      <td>0.000000</td>\n",
       "      <td>0.000000</td>\n",
       "      <td>0.000000</td>\n",
       "      <td>0.029886</td>\n",
       "      <td>0.000000</td>\n",
       "      <td>0.000000</td>\n",
       "      <td>0.000000</td>\n",
       "      <td>0.000000</td>\n",
       "      <td>0.000000</td>\n",
       "      <td>...</td>\n",
       "      <td>0.0</td>\n",
       "      <td>0.0</td>\n",
       "      <td>0.0</td>\n",
       "      <td>0.0</td>\n",
       "      <td>0.0</td>\n",
       "      <td>0.0</td>\n",
       "      <td>0.0</td>\n",
       "      <td>0.0</td>\n",
       "      <td>0.0</td>\n",
       "      <td>0.0</td>\n",
       "    </tr>\n",
       "  </tbody>\n",
       "</table>\n",
       "<p>5 rows × 60494 columns</p>\n",
       "</div>"
      ],
      "text/plain": [
       "                <built-in method lower of str object at 0x2b93c27a15a8>  \\\n",
       "1901-McKinley                                            0.000406         \n",
       "1905-Roosevelt                                           0.000000         \n",
       "1909-Taft                                                0.000000         \n",
       "1913-Wilson                                              0.000000         \n",
       "1917-Wilson                                              0.000000         \n",
       "\n",
       "                <built-in method lower of str object at 0x2b93c27a1570>  \\\n",
       "1901-McKinley                                            0.000406         \n",
       "1905-Roosevelt                                           0.000000         \n",
       "1909-Taft                                                0.000000         \n",
       "1913-Wilson                                              0.000000         \n",
       "1917-Wilson                                              0.000000         \n",
       "\n",
       "                <built-in method lower of str object at 0x2b923476bb90>  \\\n",
       "1901-McKinley                                            0.002436         \n",
       "1905-Roosevelt                                           0.004570         \n",
       "1909-Taft                                                0.001868         \n",
       "1913-Wilson                                              0.003661         \n",
       "1917-Wilson                                              0.000000         \n",
       "\n",
       "                <built-in method lower of str object at 0x2b93c258be30>  \\\n",
       "1901-McKinley                                            0.000406         \n",
       "1905-Roosevelt                                           0.000000         \n",
       "1909-Taft                                                0.000000         \n",
       "1913-Wilson                                              0.000000         \n",
       "1917-Wilson                                              0.000000         \n",
       "\n",
       "                <built-in method lower of str object at 0x2b923491b030>  \\\n",
       "1901-McKinley                                            0.044255         \n",
       "1905-Roosevelt                                           0.051188         \n",
       "1909-Taft                                                0.037024         \n",
       "1913-Wilson                                              0.052824         \n",
       "1917-Wilson                                              0.029886         \n",
       "\n",
       "                <built-in method lower of str object at 0x2b93c27a1618>  \\\n",
       "1901-McKinley                                            0.000406         \n",
       "1905-Roosevelt                                           0.000000         \n",
       "1909-Taft                                                0.000000         \n",
       "1913-Wilson                                              0.000000         \n",
       "1917-Wilson                                              0.000000         \n",
       "\n",
       "                <built-in method lower of str object at 0x2b93c27a1688>  \\\n",
       "1901-McKinley                                            0.000406         \n",
       "1905-Roosevelt                                           0.000000         \n",
       "1909-Taft                                                0.000000         \n",
       "1913-Wilson                                              0.000000         \n",
       "1917-Wilson                                              0.000000         \n",
       "\n",
       "                <built-in method lower of str object at 0x2b93c258f630>  \\\n",
       "1901-McKinley                                            0.000406         \n",
       "1905-Roosevelt                                           0.000000         \n",
       "1909-Taft                                                0.000000         \n",
       "1913-Wilson                                              0.000000         \n",
       "1917-Wilson                                              0.000000         \n",
       "\n",
       "                <built-in method lower of str object at 0x2b93c27a16c0>  \\\n",
       "1901-McKinley                                            0.000406         \n",
       "1905-Roosevelt                                           0.000000         \n",
       "1909-Taft                                                0.000000         \n",
       "1913-Wilson                                              0.000000         \n",
       "1917-Wilson                                              0.000000         \n",
       "\n",
       "                <built-in method lower of str object at 0x2b93c27a16f8>  \\\n",
       "1901-McKinley                                            0.000406         \n",
       "1905-Roosevelt                                           0.000000         \n",
       "1909-Taft                                                0.000000         \n",
       "1913-Wilson                                              0.000000         \n",
       "1917-Wilson                                              0.000000         \n",
       "\n",
       "                                         ...                             \\\n",
       "1901-McKinley                            ...                              \n",
       "1905-Roosevelt                           ...                              \n",
       "1909-Taft                                ...                              \n",
       "1913-Wilson                              ...                              \n",
       "1917-Wilson                              ...                              \n",
       "\n",
       "                <built-in method lower of str object at 0x2b93c3876458>  \\\n",
       "1901-McKinley                                                 0.0         \n",
       "1905-Roosevelt                                                0.0         \n",
       "1909-Taft                                                     0.0         \n",
       "1913-Wilson                                                   0.0         \n",
       "1917-Wilson                                                   0.0         \n",
       "\n",
       "                <built-in method lower of str object at 0x2b93c3876490>  \\\n",
       "1901-McKinley                                                 0.0         \n",
       "1905-Roosevelt                                                0.0         \n",
       "1909-Taft                                                     0.0         \n",
       "1913-Wilson                                                   0.0         \n",
       "1917-Wilson                                                   0.0         \n",
       "\n",
       "                <built-in method lower of str object at 0x2b93c38764c8>  \\\n",
       "1901-McKinley                                                 0.0         \n",
       "1905-Roosevelt                                                0.0         \n",
       "1909-Taft                                                     0.0         \n",
       "1913-Wilson                                                   0.0         \n",
       "1917-Wilson                                                   0.0         \n",
       "\n",
       "                <built-in method lower of str object at 0x2b93c3876500>  \\\n",
       "1901-McKinley                                                 0.0         \n",
       "1905-Roosevelt                                                0.0         \n",
       "1909-Taft                                                     0.0         \n",
       "1913-Wilson                                                   0.0         \n",
       "1917-Wilson                                                   0.0         \n",
       "\n",
       "                <built-in method lower of str object at 0x2b93c3876538>  \\\n",
       "1901-McKinley                                                 0.0         \n",
       "1905-Roosevelt                                                0.0         \n",
       "1909-Taft                                                     0.0         \n",
       "1913-Wilson                                                   0.0         \n",
       "1917-Wilson                                                   0.0         \n",
       "\n",
       "                <built-in method lower of str object at 0x2b93c3876570>  \\\n",
       "1901-McKinley                                                 0.0         \n",
       "1905-Roosevelt                                                0.0         \n",
       "1909-Taft                                                     0.0         \n",
       "1913-Wilson                                                   0.0         \n",
       "1917-Wilson                                                   0.0         \n",
       "\n",
       "                <built-in method lower of str object at 0x2b93c38765a8>  \\\n",
       "1901-McKinley                                                 0.0         \n",
       "1905-Roosevelt                                                0.0         \n",
       "1909-Taft                                                     0.0         \n",
       "1913-Wilson                                                   0.0         \n",
       "1917-Wilson                                                   0.0         \n",
       "\n",
       "                <built-in method lower of str object at 0x2b93c38765e0>  \\\n",
       "1901-McKinley                                                 0.0         \n",
       "1905-Roosevelt                                                0.0         \n",
       "1909-Taft                                                     0.0         \n",
       "1913-Wilson                                                   0.0         \n",
       "1917-Wilson                                                   0.0         \n",
       "\n",
       "                <built-in method lower of str object at 0x2b93c3876618>  \\\n",
       "1901-McKinley                                                 0.0         \n",
       "1905-Roosevelt                                                0.0         \n",
       "1909-Taft                                                     0.0         \n",
       "1913-Wilson                                                   0.0         \n",
       "1917-Wilson                                                   0.0         \n",
       "\n",
       "                <built-in method lower of str object at 0x2b93c3876650>  \n",
       "1901-McKinley                                                 0.0        \n",
       "1905-Roosevelt                                                0.0        \n",
       "1909-Taft                                                     0.0        \n",
       "1913-Wilson                                                   0.0        \n",
       "1917-Wilson                                                   0.0        \n",
       "\n",
       "[5 rows x 60494 columns]"
      ]
     },
     "execution_count": 80,
     "metadata": {},
     "output_type": "execute_result"
    }
   ],
   "source": [
    "inauguralDf.head()"
   ]
  },
  {
   "cell_type": "code",
   "execution_count": 84,
   "metadata": {},
   "outputs": [],
   "source": [
    "# inauguralDf[['world','america']].plot(kind='bar')"
   ]
  },
  {
   "cell_type": "code",
   "execution_count": 85,
   "metadata": {},
   "outputs": [
    {
     "ename": "KeyError",
     "evalue": "'america'",
     "output_type": "error",
     "traceback": [
      "\u001b[0;31m---------------------------------------------------------------------------\u001b[0m",
      "\u001b[0;31mKeyError\u001b[0m                                  Traceback (most recent call last)",
      "\u001b[0;32m~/anaconda3/lib/python3.6/site-packages/pandas/core/indexes/base.py\u001b[0m in \u001b[0;36mget_loc\u001b[0;34m(self, key, method, tolerance)\u001b[0m\n\u001b[1;32m   2524\u001b[0m             \u001b[0;32mtry\u001b[0m\u001b[0;34m:\u001b[0m\u001b[0;34m\u001b[0m\u001b[0m\n\u001b[0;32m-> 2525\u001b[0;31m                 \u001b[0;32mreturn\u001b[0m \u001b[0mself\u001b[0m\u001b[0;34m.\u001b[0m\u001b[0m_engine\u001b[0m\u001b[0;34m.\u001b[0m\u001b[0mget_loc\u001b[0m\u001b[0;34m(\u001b[0m\u001b[0mkey\u001b[0m\u001b[0;34m)\u001b[0m\u001b[0;34m\u001b[0m\u001b[0m\n\u001b[0m\u001b[1;32m   2526\u001b[0m             \u001b[0;32mexcept\u001b[0m \u001b[0mKeyError\u001b[0m\u001b[0;34m:\u001b[0m\u001b[0;34m\u001b[0m\u001b[0m\n",
      "\u001b[0;32mpandas/_libs/index.pyx\u001b[0m in \u001b[0;36mpandas._libs.index.IndexEngine.get_loc\u001b[0;34m()\u001b[0m\n",
      "\u001b[0;32mpandas/_libs/index.pyx\u001b[0m in \u001b[0;36mpandas._libs.index.IndexEngine.get_loc\u001b[0;34m()\u001b[0m\n",
      "\u001b[0;32mpandas/_libs/hashtable_class_helper.pxi\u001b[0m in \u001b[0;36mpandas._libs.hashtable.PyObjectHashTable.get_item\u001b[0;34m()\u001b[0m\n",
      "\u001b[0;32mpandas/_libs/hashtable_class_helper.pxi\u001b[0m in \u001b[0;36mpandas._libs.hashtable.PyObjectHashTable.get_item\u001b[0;34m()\u001b[0m\n",
      "\u001b[0;31mKeyError\u001b[0m: 'america'",
      "\nDuring handling of the above exception, another exception occurred:\n",
      "\u001b[0;31mKeyError\u001b[0m                                  Traceback (most recent call last)",
      "\u001b[0;32m<ipython-input-85-234b8716bfe4>\u001b[0m in \u001b[0;36m<module>\u001b[0;34m()\u001b[0m\n\u001b[0;32m----> 1\u001b[0;31m \u001b[0mamericaWorldRatio\u001b[0m \u001b[0;34m=\u001b[0m \u001b[0minauguralDf\u001b[0m\u001b[0;34m[\u001b[0m\u001b[0;34m'america'\u001b[0m\u001b[0;34m]\u001b[0m\u001b[0;34m/\u001b[0m\u001b[0minauguralDf\u001b[0m\u001b[0;34m[\u001b[0m\u001b[0;34m'world'\u001b[0m\u001b[0;34m]\u001b[0m\u001b[0;34m\u001b[0m\u001b[0m\n\u001b[0m\u001b[1;32m      2\u001b[0m \u001b[0mamericaWorldRatio\u001b[0m\u001b[0;34m.\u001b[0m\u001b[0mplot\u001b[0m\u001b[0;34m(\u001b[0m\u001b[0mkind\u001b[0m\u001b[0;34m=\u001b[0m\u001b[0;34m'bar'\u001b[0m\u001b[0;34m)\u001b[0m\u001b[0;34m\u001b[0m\u001b[0m\n",
      "\u001b[0;32m~/anaconda3/lib/python3.6/site-packages/pandas/core/frame.py\u001b[0m in \u001b[0;36m__getitem__\u001b[0;34m(self, key)\u001b[0m\n\u001b[1;32m   2137\u001b[0m             \u001b[0;32mreturn\u001b[0m \u001b[0mself\u001b[0m\u001b[0;34m.\u001b[0m\u001b[0m_getitem_multilevel\u001b[0m\u001b[0;34m(\u001b[0m\u001b[0mkey\u001b[0m\u001b[0;34m)\u001b[0m\u001b[0;34m\u001b[0m\u001b[0m\n\u001b[1;32m   2138\u001b[0m         \u001b[0;32melse\u001b[0m\u001b[0;34m:\u001b[0m\u001b[0;34m\u001b[0m\u001b[0m\n\u001b[0;32m-> 2139\u001b[0;31m             \u001b[0;32mreturn\u001b[0m \u001b[0mself\u001b[0m\u001b[0;34m.\u001b[0m\u001b[0m_getitem_column\u001b[0m\u001b[0;34m(\u001b[0m\u001b[0mkey\u001b[0m\u001b[0;34m)\u001b[0m\u001b[0;34m\u001b[0m\u001b[0m\n\u001b[0m\u001b[1;32m   2140\u001b[0m \u001b[0;34m\u001b[0m\u001b[0m\n\u001b[1;32m   2141\u001b[0m     \u001b[0;32mdef\u001b[0m \u001b[0m_getitem_column\u001b[0m\u001b[0;34m(\u001b[0m\u001b[0mself\u001b[0m\u001b[0;34m,\u001b[0m \u001b[0mkey\u001b[0m\u001b[0;34m)\u001b[0m\u001b[0;34m:\u001b[0m\u001b[0;34m\u001b[0m\u001b[0m\n",
      "\u001b[0;32m~/anaconda3/lib/python3.6/site-packages/pandas/core/frame.py\u001b[0m in \u001b[0;36m_getitem_column\u001b[0;34m(self, key)\u001b[0m\n\u001b[1;32m   2144\u001b[0m         \u001b[0;31m# get column\u001b[0m\u001b[0;34m\u001b[0m\u001b[0;34m\u001b[0m\u001b[0m\n\u001b[1;32m   2145\u001b[0m         \u001b[0;32mif\u001b[0m \u001b[0mself\u001b[0m\u001b[0;34m.\u001b[0m\u001b[0mcolumns\u001b[0m\u001b[0;34m.\u001b[0m\u001b[0mis_unique\u001b[0m\u001b[0;34m:\u001b[0m\u001b[0;34m\u001b[0m\u001b[0m\n\u001b[0;32m-> 2146\u001b[0;31m             \u001b[0;32mreturn\u001b[0m \u001b[0mself\u001b[0m\u001b[0;34m.\u001b[0m\u001b[0m_get_item_cache\u001b[0m\u001b[0;34m(\u001b[0m\u001b[0mkey\u001b[0m\u001b[0;34m)\u001b[0m\u001b[0;34m\u001b[0m\u001b[0m\n\u001b[0m\u001b[1;32m   2147\u001b[0m \u001b[0;34m\u001b[0m\u001b[0m\n\u001b[1;32m   2148\u001b[0m         \u001b[0;31m# duplicate columns & possible reduce dimensionality\u001b[0m\u001b[0;34m\u001b[0m\u001b[0;34m\u001b[0m\u001b[0m\n",
      "\u001b[0;32m~/anaconda3/lib/python3.6/site-packages/pandas/core/generic.py\u001b[0m in \u001b[0;36m_get_item_cache\u001b[0;34m(self, item)\u001b[0m\n\u001b[1;32m   1840\u001b[0m         \u001b[0mres\u001b[0m \u001b[0;34m=\u001b[0m \u001b[0mcache\u001b[0m\u001b[0;34m.\u001b[0m\u001b[0mget\u001b[0m\u001b[0;34m(\u001b[0m\u001b[0mitem\u001b[0m\u001b[0;34m)\u001b[0m\u001b[0;34m\u001b[0m\u001b[0m\n\u001b[1;32m   1841\u001b[0m         \u001b[0;32mif\u001b[0m \u001b[0mres\u001b[0m \u001b[0;32mis\u001b[0m \u001b[0;32mNone\u001b[0m\u001b[0;34m:\u001b[0m\u001b[0;34m\u001b[0m\u001b[0m\n\u001b[0;32m-> 1842\u001b[0;31m             \u001b[0mvalues\u001b[0m \u001b[0;34m=\u001b[0m \u001b[0mself\u001b[0m\u001b[0;34m.\u001b[0m\u001b[0m_data\u001b[0m\u001b[0;34m.\u001b[0m\u001b[0mget\u001b[0m\u001b[0;34m(\u001b[0m\u001b[0mitem\u001b[0m\u001b[0;34m)\u001b[0m\u001b[0;34m\u001b[0m\u001b[0m\n\u001b[0m\u001b[1;32m   1843\u001b[0m             \u001b[0mres\u001b[0m \u001b[0;34m=\u001b[0m \u001b[0mself\u001b[0m\u001b[0;34m.\u001b[0m\u001b[0m_box_item_values\u001b[0m\u001b[0;34m(\u001b[0m\u001b[0mitem\u001b[0m\u001b[0;34m,\u001b[0m \u001b[0mvalues\u001b[0m\u001b[0;34m)\u001b[0m\u001b[0;34m\u001b[0m\u001b[0m\n\u001b[1;32m   1844\u001b[0m             \u001b[0mcache\u001b[0m\u001b[0;34m[\u001b[0m\u001b[0mitem\u001b[0m\u001b[0;34m]\u001b[0m \u001b[0;34m=\u001b[0m \u001b[0mres\u001b[0m\u001b[0;34m\u001b[0m\u001b[0m\n",
      "\u001b[0;32m~/anaconda3/lib/python3.6/site-packages/pandas/core/internals.py\u001b[0m in \u001b[0;36mget\u001b[0;34m(self, item, fastpath)\u001b[0m\n\u001b[1;32m   3841\u001b[0m \u001b[0;34m\u001b[0m\u001b[0m\n\u001b[1;32m   3842\u001b[0m             \u001b[0;32mif\u001b[0m \u001b[0;32mnot\u001b[0m \u001b[0misna\u001b[0m\u001b[0;34m(\u001b[0m\u001b[0mitem\u001b[0m\u001b[0;34m)\u001b[0m\u001b[0;34m:\u001b[0m\u001b[0;34m\u001b[0m\u001b[0m\n\u001b[0;32m-> 3843\u001b[0;31m                 \u001b[0mloc\u001b[0m \u001b[0;34m=\u001b[0m \u001b[0mself\u001b[0m\u001b[0;34m.\u001b[0m\u001b[0mitems\u001b[0m\u001b[0;34m.\u001b[0m\u001b[0mget_loc\u001b[0m\u001b[0;34m(\u001b[0m\u001b[0mitem\u001b[0m\u001b[0;34m)\u001b[0m\u001b[0;34m\u001b[0m\u001b[0m\n\u001b[0m\u001b[1;32m   3844\u001b[0m             \u001b[0;32melse\u001b[0m\u001b[0;34m:\u001b[0m\u001b[0;34m\u001b[0m\u001b[0m\n\u001b[1;32m   3845\u001b[0m                 \u001b[0mindexer\u001b[0m \u001b[0;34m=\u001b[0m \u001b[0mnp\u001b[0m\u001b[0;34m.\u001b[0m\u001b[0marange\u001b[0m\u001b[0;34m(\u001b[0m\u001b[0mlen\u001b[0m\u001b[0;34m(\u001b[0m\u001b[0mself\u001b[0m\u001b[0;34m.\u001b[0m\u001b[0mitems\u001b[0m\u001b[0;34m)\u001b[0m\u001b[0;34m)\u001b[0m\u001b[0;34m[\u001b[0m\u001b[0misna\u001b[0m\u001b[0;34m(\u001b[0m\u001b[0mself\u001b[0m\u001b[0;34m.\u001b[0m\u001b[0mitems\u001b[0m\u001b[0;34m)\u001b[0m\u001b[0;34m]\u001b[0m\u001b[0;34m\u001b[0m\u001b[0m\n",
      "\u001b[0;32m~/anaconda3/lib/python3.6/site-packages/pandas/core/indexes/base.py\u001b[0m in \u001b[0;36mget_loc\u001b[0;34m(self, key, method, tolerance)\u001b[0m\n\u001b[1;32m   2525\u001b[0m                 \u001b[0;32mreturn\u001b[0m \u001b[0mself\u001b[0m\u001b[0;34m.\u001b[0m\u001b[0m_engine\u001b[0m\u001b[0;34m.\u001b[0m\u001b[0mget_loc\u001b[0m\u001b[0;34m(\u001b[0m\u001b[0mkey\u001b[0m\u001b[0;34m)\u001b[0m\u001b[0;34m\u001b[0m\u001b[0m\n\u001b[1;32m   2526\u001b[0m             \u001b[0;32mexcept\u001b[0m \u001b[0mKeyError\u001b[0m\u001b[0;34m:\u001b[0m\u001b[0;34m\u001b[0m\u001b[0m\n\u001b[0;32m-> 2527\u001b[0;31m                 \u001b[0;32mreturn\u001b[0m \u001b[0mself\u001b[0m\u001b[0;34m.\u001b[0m\u001b[0m_engine\u001b[0m\u001b[0;34m.\u001b[0m\u001b[0mget_loc\u001b[0m\u001b[0;34m(\u001b[0m\u001b[0mself\u001b[0m\u001b[0;34m.\u001b[0m\u001b[0m_maybe_cast_indexer\u001b[0m\u001b[0;34m(\u001b[0m\u001b[0mkey\u001b[0m\u001b[0;34m)\u001b[0m\u001b[0;34m)\u001b[0m\u001b[0;34m\u001b[0m\u001b[0m\n\u001b[0m\u001b[1;32m   2528\u001b[0m \u001b[0;34m\u001b[0m\u001b[0m\n\u001b[1;32m   2529\u001b[0m         \u001b[0mindexer\u001b[0m \u001b[0;34m=\u001b[0m \u001b[0mself\u001b[0m\u001b[0;34m.\u001b[0m\u001b[0mget_indexer\u001b[0m\u001b[0;34m(\u001b[0m\u001b[0;34m[\u001b[0m\u001b[0mkey\u001b[0m\u001b[0;34m]\u001b[0m\u001b[0;34m,\u001b[0m \u001b[0mmethod\u001b[0m\u001b[0;34m=\u001b[0m\u001b[0mmethod\u001b[0m\u001b[0;34m,\u001b[0m \u001b[0mtolerance\u001b[0m\u001b[0;34m=\u001b[0m\u001b[0mtolerance\u001b[0m\u001b[0;34m)\u001b[0m\u001b[0;34m\u001b[0m\u001b[0m\n",
      "\u001b[0;32mpandas/_libs/index.pyx\u001b[0m in \u001b[0;36mpandas._libs.index.IndexEngine.get_loc\u001b[0;34m()\u001b[0m\n",
      "\u001b[0;32mpandas/_libs/index.pyx\u001b[0m in \u001b[0;36mpandas._libs.index.IndexEngine.get_loc\u001b[0;34m()\u001b[0m\n",
      "\u001b[0;32mpandas/_libs/hashtable_class_helper.pxi\u001b[0m in \u001b[0;36mpandas._libs.hashtable.PyObjectHashTable.get_item\u001b[0;34m()\u001b[0m\n",
      "\u001b[0;32mpandas/_libs/hashtable_class_helper.pxi\u001b[0m in \u001b[0;36mpandas._libs.hashtable.PyObjectHashTable.get_item\u001b[0;34m()\u001b[0m\n",
      "\u001b[0;31mKeyError\u001b[0m: 'america'"
     ]
    }
   ],
   "source": [
    "# americaWorldRatio = inauguralDf['america']/inauguralDf['world']\n",
    "# americaWorldRatio.plot(kind='bar')"
   ]
  },
  {
   "cell_type": "code",
   "execution_count": 86,
   "metadata": {},
   "outputs": [],
   "source": [
    "similarities = [ [doc.similarity(other) for other in inaugural] for doc in inaugural ]\n",
    "similaritiesDf = pd.DataFrame(similarities, columns=labels, index=labels)"
   ]
  },
  {
   "cell_type": "code",
   "execution_count": 87,
   "metadata": {},
   "outputs": [
    {
     "data": {
      "text/plain": [
       "<matplotlib.axes._subplots.AxesSubplot at 0x2b93c2b600b8>"
      ]
     },
     "execution_count": 87,
     "metadata": {},
     "output_type": "execute_result"
    },
    {
     "data": {
      "image/png": "[encoded data removed]",
      "text/plain": [
       "<matplotlib.figure.Figure at 0x2b93c2b60780>"
      ]
     },
     "metadata": {},
     "output_type": "display_data"
    }
   ],
   "source": [
    "rcParams['figure.figsize'] = 16, 8\n",
    "seaborn.heatmap(similaritiesDf)"
   ]
  }
 ],
 "metadata": {
  "kernelspec": {
   "display_name": "Python 3",
   "language": "python",
   "name": "python3"
  },
  "language_info": {
   "codemirror_mode": {
    "name": "ipython",
    "version": 3
   },
   "file_extension": ".py",
   "mimetype": "text/x-python",
   "name": "python",
   "nbconvert_exporter": "python",
   "pygments_lexer": "ipython3",
   "version": "3.6.4"
  }
 },
 "nbformat": 4,
 "nbformat_minor": 2
}
